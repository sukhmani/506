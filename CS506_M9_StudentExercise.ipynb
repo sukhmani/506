{
  "cells": [
    {
      "cell_type": "markdown",
      "id": "DhQzpZTM731r",
      "metadata": {
        "id": "DhQzpZTM731r"
      },
      "source": [
        "# Deep Learning for Text Data: A Practical Exercise"
      ]
    },
    {
      "cell_type": "markdown",
      "id": "uz417rdkN2jS",
      "metadata": {
        "id": "uz417rdkN2jS"
      },
      "source": [
        "Welcome to this practical exercise on deep learning for text data! In this notebook, you will get hands-on experience with fundamental concepts such as text encoding, word embeddings, and various neural network architectures designed for sequential data, including Recurrent Neural Networks (RNNs), LSTMs, GRUs, and Convolutional Neural Networks (ConvNets) for sequence processing.\n",
        "\n",
        "This exercise is divided into several sections. Each section will introduce a concept and then provide tasks for you to complete. Make sure you understand the theoretical background before attempting the coding exercises.\n",
        "\n",
        "---\n",
        "## Table of Contents\n",
        "1.  **Section 1: Data Preparation and Text Encoding**\n",
        "    * 1.1 Introduction to Text Data\n",
        "    * 1.2 One-Hot Encoding\n",
        "    * 1.3 Tokenization and Vocabulary\n",
        "    * 1.4 Padding and Truncation\n",
        "2.  **Section 2: Word Embeddings**\n",
        "    * 2.1 Introduction to Word Embeddings\n",
        "    * 2.2 Static Word Embeddings (e.g., Word2Vec, GloVe)\n",
        "    * 2.3 Learning Embeddings from Scratch\n",
        "3.  **Section 3: Recurrent Neural Networks (RNNs)**\n",
        "    * 3.1 Introduction to RNNs\n",
        "    * 3.2 Simple RNN Implementation\n",
        "    * 3.3 Understanding Vanishing/Exploding Gradients\n",
        "4.  **Section 4: Long Short-Term Memory (LSTM) and Gated Recurrent Unit (GRU)**\n",
        "    * 4.1 Introduction to LSTMs\n",
        "    * 4.2 Introduction to GRUs\n",
        "    * 4.3 Implementing LSTMs and GRUs\n",
        "5.  **Section 5: Sequence Processing with Convolutional Neural Networks (ConvNets)**\n",
        "    * 5.1 Introduction to 1D Convolutions for Text\n",
        "    * 5.2 Implementing ConvNets for Text Classification\n",
        "6.  **Section 6: Putting It All Together: A Text Classification Project**\n",
        "    * 6.1 Problem Definition\n",
        "    * 6.2 Model Building and Training\n",
        "    * 6.3 Evaluation\n",
        "---"
      ]
    },
    {
      "cell_type": "code",
      "execution_count": 1,
      "id": "UfU0osGg731t",
      "metadata": {
        "id": "UfU0osGg731t"
      },
      "outputs": [
        {
          "name": "stderr",
          "output_type": "stream",
          "text": [
            "2025-06-06 03:02:10.598647: E external/local_xla/xla/stream_executor/cuda/cuda_fft.cc:467] Unable to register cuFFT factory: Attempting to register factory for plugin cuFFT when one has already been registered\n",
            "WARNING: All log messages before absl::InitializeLog() is called are written to STDERR\n",
            "E0000 00:00:1749178930.764618   20718 cuda_dnn.cc:8579] Unable to register cuDNN factory: Attempting to register factory for plugin cuDNN when one has already been registered\n",
            "E0000 00:00:1749178930.801618   20718 cuda_blas.cc:1407] Unable to register cuBLAS factory: Attempting to register factory for plugin cuBLAS when one has already been registered\n",
            "W0000 00:00:1749178931.082805   20718 computation_placer.cc:177] computation placer already registered. Please check linkage and avoid linking the same target more than once.\n",
            "W0000 00:00:1749178931.082855   20718 computation_placer.cc:177] computation placer already registered. Please check linkage and avoid linking the same target more than once.\n",
            "W0000 00:00:1749178931.082860   20718 computation_placer.cc:177] computation placer already registered. Please check linkage and avoid linking the same target more than once.\n",
            "W0000 00:00:1749178931.082864   20718 computation_placer.cc:177] computation placer already registered. Please check linkage and avoid linking the same target more than once.\n",
            "2025-06-06 03:02:11.112138: I tensorflow/core/platform/cpu_feature_guard.cc:210] This TensorFlow binary is optimized to use available CPU instructions in performance-critical operations.\n",
            "To enable the following instructions: AVX2 FMA, in other operations, rebuild TensorFlow with the appropriate compiler flags.\n"
          ]
        }
      ],
      "source": [
        "\n",
        "\n",
        "\n",
        "# You will need to install TensorFlow/Keras or PyTorch if you haven't already:\n",
        "# pip install tensorflow  # for Keras\n",
        "# pip install torch torchvision torchaudio # for PyTorch\n",
        "# Import necessary libraries\n",
        "import numpy as np\n",
        "import tensorflow as tf\n",
        "from tensorflow.keras.preprocessing.text import Tokenizer, one_hot\n",
        "from tensorflow.keras.preprocessing.sequence import pad_sequences\n",
        "from tensorflow.keras.models import Sequential\n",
        "from tensorflow.keras.layers import Embedding, SimpleRNN, LSTM, GRU, Conv1D, GlobalMaxPooling1D, Dense, Dropout\n",
        "from tensorflow.keras.datasets import imdb\n",
        "from tensorflow.keras.utils import to_categorical"
      ]
    },
    {
      "cell_type": "markdown",
      "id": "K_1RvKhY731u",
      "metadata": {
        "id": "K_1RvKhY731u"
      },
      "source": [
        "## Section 1: Data Preparation and Text Encoding"
      ]
    },
    {
      "cell_type": "markdown",
      "id": "ng_thRzVNrUM",
      "metadata": {
        "id": "ng_thRzVNrUM"
      },
      "source": [
        "Text data, unlike numerical data, cannot be directly fed into neural networks. It needs to be converted into a numerical representation. This process is called text encoding.\n",
        "\n",
        "### 1.1 Introduction to Text Data\n",
        "\n",
        "Text data comes in various forms, from simple sentences to entire documents. For machine learning models, each word or character needs to be represented numerically.\n",
        "\n",
        "### 1.2 One-Hot Encoding\n",
        "\n",
        "One-hot encoding is a simple way to represent categorical data. For text, each unique word in your vocabulary can be represented as a vector with a '1' at the index corresponding to that word and '0's elsewhere.\n",
        "\n",
        "**Disadvantages:** High dimensionality for large vocabularies and does not capture semantic relationships between words.\n",
        "\n",
        "### 1.3 Tokenization and Vocabulary\n",
        "\n",
        "**Tokenization:** The process of breaking down text into smaller units called \"tokens.\" Tokens can be words, subwords, or characters. For most NLP tasks, word-level tokenization is common.\n",
        "\n",
        "**Vocabulary:** The set of all unique tokens in your dataset.\n",
        "\n",
        "### 1.4 Padding and Truncation\n",
        "\n",
        "Neural networks typically require inputs of a fixed size. Since sentences have varying lengths, we need to either *pad* shorter sequences with a special \"padding\" token (usually 0) or *truncate* longer sequences to a maximum length.\n",
        "\n",
        "---\n",
        "**Task 1: Data Preparation and Encoding**\n",
        "\n",
        "In this task, you will prepare a small dataset of sentences and apply basic text encoding techniques.\n",
        "\n",
        "1.  **Dataset:** Consider the following list of sentences:\n",
        "```python\n",
        "sentences = [\n",
        "    \"I love deep learning\",\n",
        "    \"Deep learning is fascinating\",\n",
        "    \"Neural networks are powerful\",\n",
        "    \"Text data processing is crucial\"\n",
        "]\n",
        "```\n",
        "\n",
        "2.  **Tokenization:**\n",
        "    * Using Python, split each sentence into words (tokens).\n",
        "    * Create a unique vocabulary from all the tokens in the `sentences` list. Map each unique word to a unique integer ID (starting from 1, reserve 0 for padding).\n",
        "\n",
        "3.  **One-Hot Encoding (Conceptual):**\n",
        "    * For the sentence \"I love deep learning\", conceptually show what its one-hot encoded representation would look like if your vocabulary only contained \"I\", \"love\", \"deep\", \"learning\". (You don't need to write code for this, just explain the process).\n",
        "\n",
        "4.  **Sequence Conversion:**\n",
        "    * Convert each sentence into a sequence of integer IDs using your created vocabulary.\n",
        "\n",
        "5.  **Padding and Truncation:**\n",
        "    * Determine the maximum sentence length in your dataset.\n",
        "    * Pad shorter sequences with `0`s to match the maximum length.\n",
        "    * Demonstrate truncation by creating a new list of sequences where all sentences are truncated to a maximum length of 3. (You'll need to decide how to handle sentences shorter than 3)."
      ]
    },
    {
      "cell_type": "code",
      "execution_count": 2,
      "id": "p2v2ZsUd731v",
      "metadata": {
        "colab": {
          "base_uri": "https://localhost:8080/"
        },
        "id": "p2v2ZsUd731v",
        "outputId": "2c6787a2-9203-4e73-df6d-815a0dd65fe9"
      },
      "outputs": [
        {
          "name": "stdout",
          "output_type": "stream",
          "text": [
            "--- Task 1: Data Preparation and Encoding ---\n",
            "\n",
            "Original sentences:\n",
            "I love deep learning\n",
            "Deep learning is fascinating\n",
            "Neural networks are powerful\n",
            "Text data processing is crucial\n"
          ]
        }
      ],
      "source": [
        "sentences = [\n",
        "    \"I love deep learning\",\n",
        "    \"Deep learning is fascinating\",\n",
        "    \"Neural networks are powerful\",\n",
        "    \"Text data processing is crucial\"\n",
        "]\n",
        "\n",
        "print(\"--- Task 1: Data Preparation and Encoding ---\")\n",
        "print(\"\\nOriginal sentences:\")\n",
        "for s in sentences:\n",
        "    print(s)\n"
      ]
    },
    {
      "cell_type": "markdown",
      "id": "Jfl9MBimEXNI",
      "metadata": {
        "id": "Jfl9MBimEXNI"
      },
      "source": [
        "**Useful methods from keras**\n",
        "\n",
        "**Tokenization**: The process of breaking down text into individual units (words or subword units) called tokens. Functions like `one_hot` and `StringLookup` handle this by mapping words to integers.\n",
        "\n",
        "    The syntax for initializing the Tokenizer class from Keras (specifically `tensorflow.keras.preprocessing.text.Tokenizer`) with the num_words and oov_token arguments is as follows:\n",
        "\n",
        "    from tensorflow.keras.preprocessing.text import Tokenizer\n",
        "    tokenizer = Tokenizer(num_words=None, oov_token=\"<unk>\")\n",
        "\n",
        "    num_words=None:\n",
        "\n",
        "    This argument specifies the maximum number of words to keep, based on word frequency. The most frequent num_words words will be kept.\n",
        "    Words not among the num_words most frequent will be discarded (unless oov_token is set, in which case they'll be replaced by the oov_token).\n",
        "    If None (as in the example), all words encountered during the fit_on_texts step will be included in the vocabulary. This means the vocabulary will contain all unique words from your training data.\n",
        "\n",
        "\n",
        "    oov_token=\"<unk>\":\n",
        "\n",
        "    This argument is used to specify a token that will represent out-of-vocabulary (OOV) words.\n",
        "\n",
        "    If a word is encountered during texts_to_sequences or texts_to_matrix that was not in the vocabulary learned by fit_on_texts, it will be replaced by the integer ID corresponding to this oov_token.\n",
        "\n",
        "    The oov_token itself will be added to the vocabulary and assigned an integer ID (often 1, if 0 is reserved for padding, or vice versa, depending on internal implementation).\n",
        "\n",
        "**Vocabulary:** The set of all unique words in your dataset. Keras preprocessing layers automatically build this.\n",
        "\n",
        "**vocab_size (or num_tokens):** The total number of unique words (plus sometimes an \"out-of-vocabulary\" token) that your model will recognize. It's crucial for the one-hot encoding dimension.\n",
        "\n",
        "**one_hot(text, vocab_size):** This Keras utility function takes a string and a vocabulary size. It hashes each word in the string to an integer ID within the range [0, vocab_size - 1]. Important: It's a hashing function, so different words could map to the same ID (a \"hash collision\"), though this is less likely with a sufficiently large vocab_size. It returns a list of integer IDs.\n",
        "\n",
        "**pad_sequences(sequences, maxlen, padding):** Since statements can have different lengths, neural networks typically require fixed-size inputs. pad_sequences adds zeros to the beginning ('pre') or end ('post') of sequences to make them all the same length.\n",
        "\n",
        "**to_categorical(y, num_classes):** This Keras utility function converts a single integer or a list/array of integers into a one-hot encoded NumPy array. For example, to_categorical(3, num_classes=5) would produce [0., 0., 0., 1., 0.].\n",
        "\n",
        "**tf.keras.layers.StringLookup:** A preprocessing layer that maps strings to integer indices. It's more robust than one_hot as it explicitly learns and maintains a vocabulary, reducing hash collisions.\n",
        "\n",
        "**tf.keras.layers.CategoryEncoding:** A preprocessing layer that takes integer indices and converts them into various categorical representations, including one-hot.\n",
        "\n",
        "**When to use which method:**\n",
        "\n",
        "- one_hot and to_categorical: Good for quick, standalone one-hot encoding of text, especially if you're dealing with a fixed and known vocabulary size, or if you're working with older Keras versions. Be mindful of hash collisions if your vocab_size is too small.\n",
        "\n",
        "- StringLookup and CategoryEncoding: The preferred and more robust way for modern Keras workflows. They allow for building a vocabulary directly from your data, handling out-of-vocabulary words, and integrating seamlessly into tf.data pipelines and Keras models as preprocessing layers. This makes your model more portable and easier to deploy.\n",
        "\n"
      ]
    },
    {
      "cell_type": "code",
      "execution_count": 3,
      "id": "1f407587",
      "metadata": {},
      "outputs": [],
      "source": [
        "# Initialize tokenizer to include all words and handle out-of-vocabulary tokens\n",
        "tokenizer = Tokenizer(num_words=None, oov_token=\"<unk>\")\n",
        "# Fit tokenizer on the provided sentences\n",
        "tokenizer.fit_on_texts(sentences)"
      ]
    },
    {
      "cell_type": "code",
      "execution_count": null,
      "id": "gUusdRE18_lp",
      "metadata": {
        "colab": {
          "base_uri": "https://localhost:8080/"
        },
        "id": "gUusdRE18_lp",
        "outputId": "94b60bad-533c-45c8-e81a-5f65c02ccc56"
      },
      "outputs": [
        {
          "name": "stdout",
          "output_type": "stream",
          "text": [
            "\n",
            "Vocabulary size: 15\n",
            "Sample vocabulary (word_index):\n"
          ]
        }
      ],
      "source": [
        "# Get word index (vocabulary)\n",
        "word_index = tokenizer.word_index\n",
        "# display vocabulary size and sample vocabulary\n",
        "print(f\"\\nVocabulary size: {len(word_index)}\")\n",
        "print(\"Sample vocabulary (word_index):\")\n"
      ]
    },
    {
      "cell_type": "code",
      "execution_count": 5,
      "id": "jLPb6rch9CRR",
      "metadata": {
        "colab": {
          "base_uri": "https://localhost:8080/"
        },
        "id": "jLPb6rch9CRR",
        "outputId": "f04b0cbc-4e0d-489f-b4a3-6653aacd7969"
      },
      "outputs": [
        {
          "name": "stdout",
          "output_type": "stream",
          "text": [
            "  sample: 1\n",
            "  text: 2\n",
            "  data: 3\n"
          ]
        }
      ],
      "source": [
        "# Print first 10 items of the word_index\n",
        "tokenizer = Tokenizer()\n",
        "tokenizer.fit_on_texts([\"sample text data\"])\n",
        "word_index = tokenizer.word_index  # This defines word_index\n",
        "\n",
        "for i, (word, index) in enumerate(word_index.items()):\n",
        "    if i >= 10:\n",
        "        break\n",
        "    print(f\"  {word}: {index}\")\n",
        "if len(word_index) > 10:\n",
        "    print(\"  ...\")\n",
        "\n"
      ]
    },
    {
      "cell_type": "code",
      "execution_count": 6,
      "id": "D4M9Xqtg9EEj",
      "metadata": {
        "colab": {
          "base_uri": "https://localhost:8080/"
        },
        "id": "D4M9Xqtg9EEj",
        "outputId": "8120fb57-d420-44ec-aafb-362dbb6d4884"
      },
      "outputs": [
        {
          "name": "stdout",
          "output_type": "stream",
          "text": [
            "\n",
            "Integer sequences for sentences:\n",
            "  'I love deep learning' -> []\n",
            "  'Deep learning is fascinating' -> []\n",
            "  'Neural networks are powerful' -> []\n",
            "  'Text data processing is crucial' -> [2, 3]\n",
            "\n",
            "Maximum sequence length: 2\n"
          ]
        }
      ],
      "source": [
        "# Create sequenes for the given sentences using texts_to_sequence method and display them\n",
        "sequences = tokenizer.texts_to_sequences(sentences)\n",
        "print(\"\\nInteger sequences for sentences:\")\n",
        "for i, seq in enumerate(sequences):\n",
        "    print(f\"  '{sentences[i]}' -> {seq}\")\n",
        "\n",
        "max_len = max(len(s) for s in sequences)\n",
        "print(f\"\\nMaximum sequence length: {max_len}\")\n",
        "\n"
      ]
    },
    {
      "cell_type": "code",
      "execution_count": 9,
      "id": "plFFMq8N9KVt",
      "metadata": {
        "colab": {
          "base_uri": "https://localhost:8080/"
        },
        "id": "plFFMq8N9KVt",
        "outputId": "62f5b5f7-7816-441a-a1e2-f287bf2343d0"
      },
      "outputs": [
        {
          "name": "stdout",
          "output_type": "stream",
          "text": [
            "\n",
            "Padded sequences (post-padding):\n",
            "  [0 0]\n",
            "  [0 0]\n",
            "  [0 0]\n",
            "  [2 3]\n"
          ]
        }
      ],
      "source": [
        "# pad the sequences to include all the given words in senetences.\n",
        "# Make sure that we dont loose any words truncated.\n",
        "padded_sequences = pad_sequences(sequences) \n",
        "\n",
        " # Write your code here)\n",
        "print(\"\\nPadded sequences (post-padding):\")\n",
        "for i, seq in enumerate(padded_sequences):\n",
        "    print(f\"  {seq}\")\n"
      ]
    },
    {
      "cell_type": "code",
      "execution_count": 11,
      "id": "s5I4dome9MMu",
      "metadata": {
        "colab": {
          "base_uri": "https://localhost:8080/"
        },
        "id": "s5I4dome9MMu",
        "outputId": "807c5bec-143c-4a14-9268-4b866a91824e"
      },
      "outputs": [
        {
          "name": "stdout",
          "output_type": "stream",
          "text": [
            "\n",
            "Truncated sequences (max_len=3, post-truncating):\n",
            "  [0 0]\n",
            "  [0 0]\n",
            "  [0 0]\n",
            "  [2 3]\n"
          ]
        }
      ],
      "source": [
        "# Now truncate the sequences to include 70% words in a bigger sentence.\n",
        "# display truncated sequences\n",
        "truncated_sequences = pad_sequences(sequences)# Write your code here)\n",
        "print(\"\\nTruncated sequences (max_len=3, post-truncating):\")\n",
        "for i, seq in enumerate(truncated_sequences):\n",
        "    print(f\"  {seq}\")"
      ]
    },
    {
      "cell_type": "code",
      "execution_count": 12,
      "id": "48AW60Y1-ACb",
      "metadata": {
        "colab": {
          "base_uri": "https://localhost:8080/"
        },
        "id": "48AW60Y1-ACb",
        "outputId": "5f043370-d895-483f-b32e-648493c961eb"
      },
      "outputs": [
        {
          "name": "stdout",
          "output_type": "stream",
          "text": [
            "One-hot encoding for sequence 'Neural networks are powerful' is \n",
            " [[1. 0. 0. 0.]\n",
            " [1. 0. 0. 0.]]\n"
          ]
        }
      ],
      "source": [
        "# Create one hot encoding for the sequences using padded_Sequence\n",
        "one_hot_sequences = []\n",
        "for seq in padded_sequences:\n",
        "    #print(f\"Working on {seq}\")\n",
        "    one_hot_seq = np.zeros((len(seq), len(word_index) + 1))\n",
        "    for i, word_id in enumerate(seq):\n",
        "        #print(f\"  {i}: {word_id}\")\n",
        "        one_hot_seq[i, word_id] = 1\n",
        "    one_hot_sequences.append(one_hot_seq)\n",
        "\n",
        "print(f\"One-hot encoding for sequence '{sentences[2] }' is \\n {one_hot_sequences[2]}\")"
      ]
    },
    {
      "cell_type": "code",
      "execution_count": 19,
      "id": "3ebd5797",
      "metadata": {},
      "outputs": [],
      "source": [
        "from tensorflow.keras.utils import to_categorical\n",
        "\n",
        "text_data = [\"sample sentence\", \"another example\"]\n",
        "vocab_size = 5000  # Example vocabulary size\n",
        "\n",
        "one_hot_encoded_statements = []\n",
        "for statement_seq in padded_sequences:\n",
        "    one_hot_encoded_statements.append(to_categorical(statement_seq))  # Corrected function usage\n",
        "\n",
        "# Remove one_hot() since it's not needed for categorical encoding\n"
      ]
    },
    {
      "cell_type": "code",
      "execution_count": 20,
      "id": "ICgFheooCfgM",
      "metadata": {
        "colab": {
          "base_uri": "https://localhost:8080/"
        },
        "id": "ICgFheooCfgM",
        "outputId": "8a2214a6-8168-45fd-f237-57971c019f40"
      },
      "outputs": [
        {
          "name": "stdout",
          "output_type": "stream",
          "text": [
            "One-hot encoding for sequence 'Neural networks are powerful' is \n",
            " [[1.]\n",
            " [1.]]\n"
          ]
        }
      ],
      "source": [
        "print(f\"One-hot encoding for sequence '{sentences[2] }' is \\n {one_hot_encoded_statements[2]}\")"
      ]
    },
    {
      "cell_type": "markdown",
      "id": "lpx0_eXj731v",
      "metadata": {
        "id": "lpx0_eXj731v"
      },
      "source": [
        "---\n",
        "## Section 2: Word Embeddings\n",
        "\n",
        "Word embeddings are dense vector representations of words that capture their semantic and syntactic meanings. Unlike one-hot encoding, similar words have similar embedding vectors.\n",
        "\n",
        "### 2.1 Introduction to Word Embeddings\n",
        "\n",
        "Word embeddings represent words as real-valued vectors in a continuous vector space. The idea is that words that appear in similar contexts will have similar meanings and thus similar vector representations.\n",
        "\n",
        "### 2.2 Static Word Embeddings (e.g., Word2Vec, GloVe)\n",
        "\n",
        "These are pre-trained word embeddings learned from massive text corpora (like Wikipedia or Common Crawl). You can download and use them directly.\n",
        "\n",
        "* **Word2Vec:** Learns embeddings by predicting context words from a target word (Skip-gram) or predicting a target word from its context (CBOW).\n",
        "* **GloVe (Global Vectors for Word Representation):** Combines global matrix factorization and local context window methods.\n",
        "\n",
        "### 2.3 Learning Embeddings from Scratch\n",
        "\n",
        "In deep learning models, especially with sufficient data, you can learn word embeddings as part of your neural network training process. This is done using an `Embedding` layer (e.g., `tf.keras.layers.Embedding` or `torch.nn.Embedding`). This layer takes integer-encoded sequences as input and outputs dense vectors.\n",
        "\n",
        "---\n",
        "**Task 2: Working with Word Embeddings**\n",
        "\n",
        "In this task, you will explore both pre-trained embeddings and learning embeddings from scratch.\n",
        "\n",
        "1.  **Simulated Pre-trained Embeddings:**\n",
        "    * Imagine you have a small pre-trained embedding matrix. For the vocabulary you created in Task 1, create a small, arbitrary (randomly initialized) embedding matrix of shape `(vocab_size, embedding_dim)`, where `embedding_dim` is, say, 50.\n",
        "    * For the word \"deep\", retrieve its embedding vector from your simulated matrix.\n",
        "\n",
        "2.  **Using `tf.keras.layers.Embedding` (or `torch.nn.Embedding`):**\n",
        "    * Create a simple Keras (or PyTorch) model that includes an `Embedding` layer.\n",
        "        * The `input_dim` of the `Embedding` layer should be your `vocab_size + 1` (to account for padding).\n",
        "        * The `output_dim` can be, for example, 100.\n",
        "        * The `input_length` should be your maximum sequence length from Task 1.\n",
        "    * Pass one of your padded integer sequences from Task 1 through this embedding layer and observe the output shape. Explain what each dimension of the output shape represents.\n",
        "    * **Conceptual Question:** How do the weights of this `Embedding` layer get updated during training?"
      ]
    },
    {
      "cell_type": "code",
      "execution_count": 21,
      "id": "3AXocM3Z731w",
      "metadata": {
        "colab": {
          "base_uri": "https://localhost:8080/"
        },
        "id": "3AXocM3Z731w",
        "outputId": "f4acbc45-0bcf-48a6-8c51-211407d540af"
      },
      "outputs": [
        {
          "name": "stdout",
          "output_type": "stream",
          "text": [
            "\n",
            "--- Task 2: Working with Word Embeddings ---\n"
          ]
        }
      ],
      "source": [
        "print(\"\\n--- Task 2: Working with Word Embeddings ---\")\n",
        "vocab_size_task1 = len(word_index) + 1 # +1 for padding (index 0) and <unk> token\n",
        "embedding_dim = 50\n",
        "\n"
      ]
    },
    {
      "cell_type": "code",
      "execution_count": 22,
      "id": "eok6qq7UIy1-",
      "metadata": {
        "colab": {
          "base_uri": "https://localhost:8080/"
        },
        "id": "eok6qq7UIy1-",
        "outputId": "d626e99a-bac0-4cc0-d8d2-86854e4aa82b"
      },
      "outputs": [
        {
          "name": "stdout",
          "output_type": "stream",
          "text": [
            "\n",
            "Simulated Embedding Matrix shape: (4, 50)\n"
          ]
        }
      ],
      "source": [
        "# Create a simulated pre-trained embedding matrix\n",
        "# Using random values for demonstration\n",
        "simulated_embedding_matrix = np.random.rand(vocab_size_task1, embedding_dim)\n",
        "print(f\"\\nSimulated Embedding Matrix shape: {simulated_embedding_matrix.shape}\")\n",
        "\n"
      ]
    },
    {
      "cell_type": "code",
      "execution_count": 23,
      "id": "baTbmGHfI3GX",
      "metadata": {
        "colab": {
          "base_uri": "https://localhost:8080/"
        },
        "id": "baTbmGHfI3GX",
        "outputId": "d0b5e5b0-767b-4a00-c788-33c8794f8f93"
      },
      "outputs": [
        {
          "name": "stdout",
          "output_type": "stream",
          "text": [
            "'deep' not found in vocabulary.\n"
          ]
        }
      ],
      "source": [
        "# Retrieve embedding for \"deep\"\n",
        "word_to_find = \"deep\"\n",
        "if word_to_find in word_index:\n",
        "    deep_index = word_index[word_to_find]\n",
        "    deep_embedding = simulated_embedding_matrix[deep_index]\n",
        "    print(f\"Embedding for '{word_to_find}' (index {deep_index}):\\n{deep_embedding[:5]}...\") # print first 5 elements\n",
        "else:\n",
        "    print(f\"'{word_to_find}' not found in vocabulary.\")\n",
        "\n"
      ]
    },
    {
      "cell_type": "code",
      "execution_count": 24,
      "id": "YRSDY6ggI-hK",
      "metadata": {
        "colab": {
          "base_uri": "https://localhost:8080/",
          "height": 236
        },
        "id": "YRSDY6ggI-hK",
        "outputId": "efbf1b5a-da19-4a11-c364-a6ed52997a47"
      },
      "outputs": [
        {
          "name": "stdout",
          "output_type": "stream",
          "text": [
            "\n",
            "Keras Embedding Layer Model Summary:\n"
          ]
        },
        {
          "name": "stderr",
          "output_type": "stream",
          "text": [
            "/usr/local/python/3.12.1/lib/python3.12/site-packages/keras/src/layers/core/embedding.py:97: UserWarning: Argument `input_length` is deprecated. Just remove it.\n",
            "  warnings.warn(\n",
            "2025-06-06 03:15:56.173203: E external/local_xla/xla/stream_executor/cuda/cuda_platform.cc:51] failed call to cuInit: INTERNAL: CUDA error: Failed call to cuInit: UNKNOWN ERROR (303)\n"
          ]
        },
        {
          "data": {
            "text/html": [
              "<pre style=\"white-space:pre;overflow-x:auto;line-height:normal;font-family:Menlo,'DejaVu Sans Mono',consolas,'Courier New',monospace\"><span style=\"font-weight: bold\">Model: \"sequential\"</span>\n",
              "</pre>\n"
            ],
            "text/plain": [
              "\u001b[1mModel: \"sequential\"\u001b[0m\n"
            ]
          },
          "metadata": {},
          "output_type": "display_data"
        },
        {
          "data": {
            "text/html": [
              "<pre style=\"white-space:pre;overflow-x:auto;line-height:normal;font-family:Menlo,'DejaVu Sans Mono',consolas,'Courier New',monospace\">┏━━━━━━━━━━━━━━━━━━━━━━━━━━━━━━━━━┳━━━━━━━━━━━━━━━━━━━━━━━━┳━━━━━━━━━━━━━━━┓\n",
              "┃<span style=\"font-weight: bold\"> Layer (type)                    </span>┃<span style=\"font-weight: bold\"> Output Shape           </span>┃<span style=\"font-weight: bold\">       Param # </span>┃\n",
              "┡━━━━━━━━━━━━━━━━━━━━━━━━━━━━━━━━━╇━━━━━━━━━━━━━━━━━━━━━━━━╇━━━━━━━━━━━━━━━┩\n",
              "│ embedding (<span style=\"color: #0087ff; text-decoration-color: #0087ff\">Embedding</span>)           │ (<span style=\"color: #00d7ff; text-decoration-color: #00d7ff\">None</span>, <span style=\"color: #00af00; text-decoration-color: #00af00\">2</span>, <span style=\"color: #00af00; text-decoration-color: #00af00\">3</span>)           │            <span style=\"color: #00af00; text-decoration-color: #00af00\">12</span> │\n",
              "└─────────────────────────────────┴────────────────────────┴───────────────┘\n",
              "</pre>\n"
            ],
            "text/plain": [
              "┏━━━━━━━━━━━━━━━━━━━━━━━━━━━━━━━━━┳━━━━━━━━━━━━━━━━━━━━━━━━┳━━━━━━━━━━━━━━━┓\n",
              "┃\u001b[1m \u001b[0m\u001b[1mLayer (type)                   \u001b[0m\u001b[1m \u001b[0m┃\u001b[1m \u001b[0m\u001b[1mOutput Shape          \u001b[0m\u001b[1m \u001b[0m┃\u001b[1m \u001b[0m\u001b[1m      Param #\u001b[0m\u001b[1m \u001b[0m┃\n",
              "┡━━━━━━━━━━━━━━━━━━━━━━━━━━━━━━━━━╇━━━━━━━━━━━━━━━━━━━━━━━━╇━━━━━━━━━━━━━━━┩\n",
              "│ embedding (\u001b[38;5;33mEmbedding\u001b[0m)           │ (\u001b[38;5;45mNone\u001b[0m, \u001b[38;5;34m2\u001b[0m, \u001b[38;5;34m3\u001b[0m)           │            \u001b[38;5;34m12\u001b[0m │\n",
              "└─────────────────────────────────┴────────────────────────┴───────────────┘\n"
            ]
          },
          "metadata": {},
          "output_type": "display_data"
        },
        {
          "data": {
            "text/html": [
              "<pre style=\"white-space:pre;overflow-x:auto;line-height:normal;font-family:Menlo,'DejaVu Sans Mono',consolas,'Courier New',monospace\"><span style=\"font-weight: bold\"> Total params: </span><span style=\"color: #00af00; text-decoration-color: #00af00\">12</span> (48.00 B)\n",
              "</pre>\n"
            ],
            "text/plain": [
              "\u001b[1m Total params: \u001b[0m\u001b[38;5;34m12\u001b[0m (48.00 B)\n"
            ]
          },
          "metadata": {},
          "output_type": "display_data"
        },
        {
          "data": {
            "text/html": [
              "<pre style=\"white-space:pre;overflow-x:auto;line-height:normal;font-family:Menlo,'DejaVu Sans Mono',consolas,'Courier New',monospace\"><span style=\"font-weight: bold\"> Trainable params: </span><span style=\"color: #00af00; text-decoration-color: #00af00\">12</span> (48.00 B)\n",
              "</pre>\n"
            ],
            "text/plain": [
              "\u001b[1m Trainable params: \u001b[0m\u001b[38;5;34m12\u001b[0m (48.00 B)\n"
            ]
          },
          "metadata": {},
          "output_type": "display_data"
        },
        {
          "data": {
            "text/html": [
              "<pre style=\"white-space:pre;overflow-x:auto;line-height:normal;font-family:Menlo,'DejaVu Sans Mono',consolas,'Courier New',monospace\"><span style=\"font-weight: bold\"> Non-trainable params: </span><span style=\"color: #00af00; text-decoration-color: #00af00\">0</span> (0.00 B)\n",
              "</pre>\n"
            ],
            "text/plain": [
              "\u001b[1m Non-trainable params: \u001b[0m\u001b[38;5;34m0\u001b[0m (0.00 B)\n"
            ]
          },
          "metadata": {},
          "output_type": "display_data"
        }
      ],
      "source": [
        "# Use embedding output dimension as 3 and create embedding using Embedding layer from keras.\n",
        "embedding_output_dim = 3\n",
        "input_length_task1 = max_len # Max length from Task 1\n",
        "\n",
        "model_embedding = Sequential([\n",
        "    Embedding(input_dim=vocab_size_task1, output_dim=embedding_output_dim, input_length=input_length_task1)\n",
        "])\n",
        "model_embedding.build(input_shape=(None, input_length_task1)) # Build the model to see summary\n",
        "print(\"\\nKeras Embedding Layer Model Summary:\")\n",
        "model_embedding.summary()\n",
        "\n"
      ]
    },
    {
      "cell_type": "code",
      "execution_count": 25,
      "id": "BQRzwMW2JCFt",
      "metadata": {
        "colab": {
          "base_uri": "https://localhost:8080/",
          "height": 217
        },
        "id": "BQRzwMW2JCFt",
        "outputId": "6b3fa42f-0ff8-445f-df08-7524d2b71480"
      },
      "outputs": [
        {
          "name": "stdout",
          "output_type": "stream",
          "text": [
            "\u001b[1m1/1\u001b[0m \u001b[32m━━━━━━━━━━━━━━━━━━━━\u001b[0m\u001b[37m\u001b[0m \u001b[1m0s\u001b[0m 119ms/step\n",
            "\n",
            "Input sequence shape: (1, 2)\n",
            "Output of Embedding layer shape: (1, 2, 3)\n",
            "Output of Embedding layer for the first sentence is: [-0.02058733  0.02284684 -0.04296681]\n"
          ]
        }
      ],
      "source": [
        "# Pass a padded sequence through the embedding layer\n",
        "sample_input_sequence = padded_sequences[0:1] # Take the first padded sequence\n",
        "embedded_output = model_embedding.predict(sample_input_sequence)\n",
        "\n",
        "print(f\"\\nInput sequence shape: {sample_input_sequence.shape}\")\n",
        "print(f\"Output of Embedding layer shape: {embedded_output.shape}\")\n",
        "# print predited embedding\n",
        "print(f\"Output of Embedding layer for the first sentence is: {embedded_output[0,0,:]}\")\n",
        "\n",
        "\n",
        "\n"
      ]
    },
    {
      "cell_type": "markdown",
      "id": "bjN4o7z338r_",
      "metadata": {
        "id": "bjN4o7z338r_"
      },
      "source": [
        "**Explanation of Embedding layer output shape:**\n",
        "Based on your understanding of the above code, explain embedding layer output shape and values.\n",
        "\n",
        "  - Dimension 1 (1): Batch size (number of input sequences processed at once). Value = <x>\n",
        "  - Dimension 2 (5): Sequence length (input_length). Value = <x>\n",
        "  - Dimension 3 (3): Embedding dimension (output_dim). Value = <x>\n",
        "  \n",
        "  This means each word in the input sequence is now represented by a dense vector of size <x>.\n",
        "\n",
        "**Conceptual Question: How Embedding layer calculate the weights?**\n",
        "\n"
      ]
    },
    {
      "cell_type": "code",
      "execution_count": 27,
      "id": "Xn62UtL5JcYC",
      "metadata": {
        "colab": {
          "base_uri": "https://localhost:8080/"
        },
        "id": "Xn62UtL5JcYC",
        "outputId": "d9185261-3807-44e9-adf0-8233d45c0b28"
      },
      "outputs": [
        {
          "name": "stdout",
          "output_type": "stream",
          "text": [
            "Reinitialized sequences: [[1, 2], [3, 4]]\n",
            "\n",
            "The first word in the sequence: I\n",
            "\n",
            "The integer id of the first word in the sequence: 1\n",
            "Text of the first word: 'sample'\n"
          ]
        }
      ],
      "source": [
        "from tensorflow.keras.preprocessing.text import Tokenizer\n",
        "\n",
        "# Sample text data\n",
        "text_data = [\"sample sentence\", \"another example\"]\n",
        "vocab_size = 5000  # Example vocabulary size\n",
        "\n",
        "# Tokenize the text data\n",
        "tokenizer = Tokenizer(num_words=vocab_size)\n",
        "tokenizer.fit_on_texts(text_data)\n",
        "\n",
        "# Convert text into sequences\n",
        "sequences = tokenizer.texts_to_sequences(text_data)\n",
        "\n",
        "# Print the reinitialized sequences\n",
        "print(\"Reinitialized sequences:\", sequences)\n",
        "\n",
        "first_word_id = sentences[0][0]\n",
        "print(f\"\\nThe first word in the sequence: {first_word_id}\")\n",
        "first_word_id = sequences[0][0]\n",
        "print(f\"\\nThe integer id of the first word in the sequence: {first_word_id}\")\n",
        "# You can look up the corresponding word\n",
        "# Create a reverse word index for easy lookup\n",
        "reverse_word_index = dict(zip(word_index.values(), word_index.keys()))\n",
        "\n",
        "first_word_text = reverse_word_index.get(first_word_id, \"OOV\")\n",
        "print(f\"Text of the first word: '{first_word_text}'\")"
      ]
    },
    {
      "cell_type": "markdown",
      "id": "PLCKAsab5CuR",
      "metadata": {
        "id": "PLCKAsab5CuR"
      },
      "source": [
        "# Observe the code below and answer questions at the end of notebook."
      ]
    },
    {
      "cell_type": "markdown",
      "id": "vmnUBYCy731w",
      "metadata": {
        "id": "vmnUBYCy731w"
      },
      "source": [
        "---\n",
        "## Section 3: Recurrent Neural Networks (RNNs)\n",
        "\n",
        "Recurrent Neural Networks (RNNs) are designed to process sequential data. They have a \"memory\" that allows them to use information from previous steps in the sequence.\n",
        "\n",
        "### 3.1 Introduction to RNNs\n",
        "\n",
        "Traditional neural networks treat inputs independently. For sequences, this is problematic because the order of elements matters. RNNs address this by maintaining a hidden state that is updated at each step of the sequence, effectively carrying information forward.\n",
        "\n",
        "The core idea is:\n",
        "$h_t = f(W_{hh}h_{t-1} + W_{xh}x_t + b_h)$\n",
        "$y_t = W_{hy}h_t + b_y$\n",
        "\n",
        "Where:\n",
        "* $x_t$ is the input at time step $t$.\n",
        "* $h_t$ is the hidden state at time step $t$.\n",
        "* $h_{t-1}$ is the hidden state from the previous time step.\n",
        "* $W$ are weight matrices and $b$ are bias vectors.\n",
        "* $f$ is an activation function (e.g., tanh).\n",
        "\n",
        "### 3.2 Simple RNN Implementation\n",
        "\n",
        "Frameworks like Keras and PyTorch provide `SimpleRNN` layers.\n",
        "\n",
        "### 3.3 Understanding Vanishing/Exploding Gradients\n",
        "\n",
        "A major problem with simple RNNs is the vanishing or exploding gradient problem. During backpropagation through time, gradients can become extremely small (vanishing) or extremely large (exploding), making it difficult for the network to learn long-range dependencies.\n",
        "\n",
        "---\n",
        "**Task 3: Implementing a Simple RNN**\n",
        "\n",
        "In this task, you will build and train a simple RNN for a toy sequence classification problem.\n",
        "\n",
        "1.  **Dataset Download:**\n",
        "    * Download dataset from kaggle. you can download any dataset as you like.\n",
        "    * The simple example is crowdflower/twitter-airline-sentiment"
      ]
    },
    {
      "cell_type": "code",
      "execution_count": 29,
      "id": "uTgHlXrEPYPS",
      "metadata": {
        "colab": {
          "base_uri": "https://localhost:8080/"
        },
        "id": "uTgHlXrEPYPS",
        "outputId": "8f1b66bd-9eb9-43ce-b4ec-d017a91dde00"
      },
      "outputs": [
        {
          "name": "stderr",
          "output_type": "stream",
          "text": [
            "/usr/local/python/3.12.1/lib/python3.12/site-packages/tqdm/auto.py:21: TqdmWarning: IProgress not found. Please update jupyter and ipywidgets. See https://ipywidgets.readthedocs.io/en/stable/user_install.html\n",
            "  from .autonotebook import tqdm as notebook_tqdm\n"
          ]
        },
        {
          "name": "stdout",
          "output_type": "stream",
          "text": [
            "Attempting to download ...\n",
            "Downloading from https://www.kaggle.com/api/v1/datasets/download/crowdflower/twitter-airline-sentiment?dataset_version_number=4...\n"
          ]
        },
        {
          "name": "stderr",
          "output_type": "stream",
          "text": [
            "100%|██████████| 2.55M/2.55M [00:00<00:00, 19.2MB/s]"
          ]
        },
        {
          "name": "stdout",
          "output_type": "stream",
          "text": [
            "Extracting files...\n",
            "Path to dataset files: /home/codespace/.cache/kagglehub/datasets/crowdflower/twitter-airline-sentiment/versions/4\n"
          ]
        },
        {
          "name": "stderr",
          "output_type": "stream",
          "text": [
            "\n"
          ]
        }
      ],
      "source": [
        "import pandas as pd\n",
        "import numpy as np\n",
        "import re\n",
        "import string\n",
        "from sklearn.model_selection import train_test_split\n",
        "from sklearn.preprocessing import LabelEncoder\n",
        "from tensorflow.keras.preprocessing.text import Tokenizer\n",
        "from tensorflow.keras.preprocessing.sequence import pad_sequences\n",
        "from tensorflow.keras.models import Sequential\n",
        "from tensorflow.keras.layers import Embedding, SimpleRNN, LSTM, GRU, Dense, Dropout\n",
        "from tensorflow.keras.callbacks import EarlyStopping, ModelCheckpoint\n",
        "import matplotlib.pyplot as plt\n",
        "import seaborn as sns\n",
        "import os\n",
        "import zipfile\n",
        "import kagglehub\n",
        "\n",
        "# --- Download the Dataset ---\n",
        "print(f\"Attempting to download ...\")\n",
        "DATASET_NAME = 'crowdflower/twitter-airline-sentiment'\n",
        "\n",
        "try:\n",
        "    # Download latest version\n",
        "    DATASET_PATH = kagglehub.dataset_download(DATASET_NAME)\n",
        "    print(\"Path to dataset files:\", DATASET_PATH)\n",
        "\n",
        "except Exception as e:\n",
        "    print(f\"An error occurred during download or extraction: {e}\")\n",
        "    print(\"Please ensure you have the 'kaggle' package installed (`pip install kaggle`)\")\n",
        "    print(\"and your Kaggle API credentials (`kaggle.json`) are correctly placed.\")\n",
        "    exit()\n",
        "\n"
      ]
    },
    {
      "cell_type": "code",
      "execution_count": 30,
      "id": "Kw7M7_ocPpLr",
      "metadata": {
        "id": "Kw7M7_ocPpLr"
      },
      "outputs": [],
      "source": [
        "# --- Load the Dataset from the downloaded location ---\n",
        "# The extracted file is usually 'Tweets.csv'\n",
        "csv_file_path = os.path.join(DATASET_PATH, 'Tweets.csv')\n",
        "if not os.path.exists(csv_file_path):\n",
        "    print(f\"Error: 'Tweets.csv' not found in {DATASET_PATH} after extraction.\")\n",
        "    exit()\n",
        "\n",
        "df = pd.read_csv(csv_file_path)\n",
        "\n",
        "# We are interested in the 'text' (tweet content) and 'airline_sentiment' (label) columns\n",
        "df = df[['text', 'airline_sentiment']]\n",
        "\n"
      ]
    },
    {
      "cell_type": "code",
      "execution_count": null,
      "id": "nqtt3Ja1S-iy",
      "metadata": {
        "colab": {
          "base_uri": "https://localhost:8080/",
          "height": 206
        },
        "id": "nqtt3Ja1S-iy",
        "outputId": "dbfb6fc1-6472-4168-82ef-62ad1f587138"
      },
      "outputs": [
        {
          "data": {
            "application/vnd.google.colaboratory.intrinsic+json": {
              "summary": "{\n  \"name\": \"df\",\n  \"rows\": 14640,\n  \"fields\": [\n    {\n      \"column\": \"text\",\n      \"properties\": {\n        \"dtype\": \"string\",\n        \"num_unique_values\": 14427,\n        \"samples\": [\n          \"@JetBlue so technically I could drive to JFK now and put in. Request for tomorrow's flight?\",\n          \"@united why I won't check my carry on. Watched a handler throw this bag -- miss the conveyer belt -- sat there 10 min http://t.co/lyoocx5mSH\",\n          \"@SouthwestAir you guys are so clever \\ud83d\\ude03 http://t.co/qn5odUGFqK\"\n        ],\n        \"semantic_type\": \"\",\n        \"description\": \"\"\n      }\n    },\n    {\n      \"column\": \"airline_sentiment\",\n      \"properties\": {\n        \"dtype\": \"category\",\n        \"num_unique_values\": 3,\n        \"samples\": [\n          \"neutral\",\n          \"positive\",\n          \"negative\"\n        ],\n        \"semantic_type\": \"\",\n        \"description\": \"\"\n      }\n    }\n  ]\n}",
              "type": "dataframe",
              "variable_name": "df"
            },
            "text/html": [
              "\n",
              "  <div id=\"df-6fae6588-56c9-4434-9c1e-15df2e3c4709\" class=\"colab-df-container\">\n",
              "    <div>\n",
              "<style scoped>\n",
              "    .dataframe tbody tr th:only-of-type {\n",
              "        vertical-align: middle;\n",
              "    }\n",
              "\n",
              "    .dataframe tbody tr th {\n",
              "        vertical-align: top;\n",
              "    }\n",
              "\n",
              "    .dataframe thead th {\n",
              "        text-align: right;\n",
              "    }\n",
              "</style>\n",
              "<table border=\"1\" class=\"dataframe\">\n",
              "  <thead>\n",
              "    <tr style=\"text-align: right;\">\n",
              "      <th></th>\n",
              "      <th>text</th>\n",
              "      <th>airline_sentiment</th>\n",
              "    </tr>\n",
              "  </thead>\n",
              "  <tbody>\n",
              "    <tr>\n",
              "      <th>0</th>\n",
              "      <td>@VirginAmerica What @dhepburn said.</td>\n",
              "      <td>neutral</td>\n",
              "    </tr>\n",
              "    <tr>\n",
              "      <th>1</th>\n",
              "      <td>@VirginAmerica plus you've added commercials t...</td>\n",
              "      <td>positive</td>\n",
              "    </tr>\n",
              "    <tr>\n",
              "      <th>2</th>\n",
              "      <td>@VirginAmerica I didn't today... Must mean I n...</td>\n",
              "      <td>neutral</td>\n",
              "    </tr>\n",
              "    <tr>\n",
              "      <th>3</th>\n",
              "      <td>@VirginAmerica it's really aggressive to blast...</td>\n",
              "      <td>negative</td>\n",
              "    </tr>\n",
              "    <tr>\n",
              "      <th>4</th>\n",
              "      <td>@VirginAmerica and it's a really big bad thing...</td>\n",
              "      <td>negative</td>\n",
              "    </tr>\n",
              "  </tbody>\n",
              "</table>\n",
              "</div>\n",
              "    <div class=\"colab-df-buttons\">\n",
              "\n",
              "  <div class=\"colab-df-container\">\n",
              "    <button class=\"colab-df-convert\" onclick=\"convertToInteractive('df-6fae6588-56c9-4434-9c1e-15df2e3c4709')\"\n",
              "            title=\"Convert this dataframe to an interactive table.\"\n",
              "            style=\"display:none;\">\n",
              "\n",
              "  <svg xmlns=\"http://www.w3.org/2000/svg\" height=\"24px\" viewBox=\"0 -960 960 960\">\n",
              "    <path d=\"M120-120v-720h720v720H120Zm60-500h600v-160H180v160Zm220 220h160v-160H400v160Zm0 220h160v-160H400v160ZM180-400h160v-160H180v160Zm440 0h160v-160H620v160ZM180-180h160v-160H180v160Zm440 0h160v-160H620v160Z\"/>\n",
              "  </svg>\n",
              "    </button>\n",
              "\n",
              "  <style>\n",
              "    .colab-df-container {\n",
              "      display:flex;\n",
              "      gap: 12px;\n",
              "    }\n",
              "\n",
              "    .colab-df-convert {\n",
              "      background-color: #E8F0FE;\n",
              "      border: none;\n",
              "      border-radius: 50%;\n",
              "      cursor: pointer;\n",
              "      display: none;\n",
              "      fill: #1967D2;\n",
              "      height: 32px;\n",
              "      padding: 0 0 0 0;\n",
              "      width: 32px;\n",
              "    }\n",
              "\n",
              "    .colab-df-convert:hover {\n",
              "      background-color: #E2EBFA;\n",
              "      box-shadow: 0px 1px 2px rgba(60, 64, 67, 0.3), 0px 1px 3px 1px rgba(60, 64, 67, 0.15);\n",
              "      fill: #174EA6;\n",
              "    }\n",
              "\n",
              "    .colab-df-buttons div {\n",
              "      margin-bottom: 4px;\n",
              "    }\n",
              "\n",
              "    [theme=dark] .colab-df-convert {\n",
              "      background-color: #3B4455;\n",
              "      fill: #D2E3FC;\n",
              "    }\n",
              "\n",
              "    [theme=dark] .colab-df-convert:hover {\n",
              "      background-color: #434B5C;\n",
              "      box-shadow: 0px 1px 3px 1px rgba(0, 0, 0, 0.15);\n",
              "      filter: drop-shadow(0px 1px 2px rgba(0, 0, 0, 0.3));\n",
              "      fill: #FFFFFF;\n",
              "    }\n",
              "  </style>\n",
              "\n",
              "    <script>\n",
              "      const buttonEl =\n",
              "        document.querySelector('#df-6fae6588-56c9-4434-9c1e-15df2e3c4709 button.colab-df-convert');\n",
              "      buttonEl.style.display =\n",
              "        google.colab.kernel.accessAllowed ? 'block' : 'none';\n",
              "\n",
              "      async function convertToInteractive(key) {\n",
              "        const element = document.querySelector('#df-6fae6588-56c9-4434-9c1e-15df2e3c4709');\n",
              "        const dataTable =\n",
              "          await google.colab.kernel.invokeFunction('convertToInteractive',\n",
              "                                                    [key], {});\n",
              "        if (!dataTable) return;\n",
              "\n",
              "        const docLinkHtml = 'Like what you see? Visit the ' +\n",
              "          '<a target=\"_blank\" href=https://colab.research.google.com/notebooks/data_table.ipynb>data table notebook</a>'\n",
              "          + ' to learn more about interactive tables.';\n",
              "        element.innerHTML = '';\n",
              "        dataTable['output_type'] = 'display_data';\n",
              "        await google.colab.output.renderOutput(dataTable, element);\n",
              "        const docLink = document.createElement('div');\n",
              "        docLink.innerHTML = docLinkHtml;\n",
              "        element.appendChild(docLink);\n",
              "      }\n",
              "    </script>\n",
              "  </div>\n",
              "\n",
              "\n",
              "    <div id=\"df-06eb5e7e-23ba-42f3-9569-e2fc7948ac75\">\n",
              "      <button class=\"colab-df-quickchart\" onclick=\"quickchart('df-06eb5e7e-23ba-42f3-9569-e2fc7948ac75')\"\n",
              "                title=\"Suggest charts\"\n",
              "                style=\"display:none;\">\n",
              "\n",
              "<svg xmlns=\"http://www.w3.org/2000/svg\" height=\"24px\"viewBox=\"0 0 24 24\"\n",
              "     width=\"24px\">\n",
              "    <g>\n",
              "        <path d=\"M19 3H5c-1.1 0-2 .9-2 2v14c0 1.1.9 2 2 2h14c1.1 0 2-.9 2-2V5c0-1.1-.9-2-2-2zM9 17H7v-7h2v7zm4 0h-2V7h2v10zm4 0h-2v-4h2v4z\"/>\n",
              "    </g>\n",
              "</svg>\n",
              "      </button>\n",
              "\n",
              "<style>\n",
              "  .colab-df-quickchart {\n",
              "      --bg-color: #E8F0FE;\n",
              "      --fill-color: #1967D2;\n",
              "      --hover-bg-color: #E2EBFA;\n",
              "      --hover-fill-color: #174EA6;\n",
              "      --disabled-fill-color: #AAA;\n",
              "      --disabled-bg-color: #DDD;\n",
              "  }\n",
              "\n",
              "  [theme=dark] .colab-df-quickchart {\n",
              "      --bg-color: #3B4455;\n",
              "      --fill-color: #D2E3FC;\n",
              "      --hover-bg-color: #434B5C;\n",
              "      --hover-fill-color: #FFFFFF;\n",
              "      --disabled-bg-color: #3B4455;\n",
              "      --disabled-fill-color: #666;\n",
              "  }\n",
              "\n",
              "  .colab-df-quickchart {\n",
              "    background-color: var(--bg-color);\n",
              "    border: none;\n",
              "    border-radius: 50%;\n",
              "    cursor: pointer;\n",
              "    display: none;\n",
              "    fill: var(--fill-color);\n",
              "    height: 32px;\n",
              "    padding: 0;\n",
              "    width: 32px;\n",
              "  }\n",
              "\n",
              "  .colab-df-quickchart:hover {\n",
              "    background-color: var(--hover-bg-color);\n",
              "    box-shadow: 0 1px 2px rgba(60, 64, 67, 0.3), 0 1px 3px 1px rgba(60, 64, 67, 0.15);\n",
              "    fill: var(--button-hover-fill-color);\n",
              "  }\n",
              "\n",
              "  .colab-df-quickchart-complete:disabled,\n",
              "  .colab-df-quickchart-complete:disabled:hover {\n",
              "    background-color: var(--disabled-bg-color);\n",
              "    fill: var(--disabled-fill-color);\n",
              "    box-shadow: none;\n",
              "  }\n",
              "\n",
              "  .colab-df-spinner {\n",
              "    border: 2px solid var(--fill-color);\n",
              "    border-color: transparent;\n",
              "    border-bottom-color: var(--fill-color);\n",
              "    animation:\n",
              "      spin 1s steps(1) infinite;\n",
              "  }\n",
              "\n",
              "  @keyframes spin {\n",
              "    0% {\n",
              "      border-color: transparent;\n",
              "      border-bottom-color: var(--fill-color);\n",
              "      border-left-color: var(--fill-color);\n",
              "    }\n",
              "    20% {\n",
              "      border-color: transparent;\n",
              "      border-left-color: var(--fill-color);\n",
              "      border-top-color: var(--fill-color);\n",
              "    }\n",
              "    30% {\n",
              "      border-color: transparent;\n",
              "      border-left-color: var(--fill-color);\n",
              "      border-top-color: var(--fill-color);\n",
              "      border-right-color: var(--fill-color);\n",
              "    }\n",
              "    40% {\n",
              "      border-color: transparent;\n",
              "      border-right-color: var(--fill-color);\n",
              "      border-top-color: var(--fill-color);\n",
              "    }\n",
              "    60% {\n",
              "      border-color: transparent;\n",
              "      border-right-color: var(--fill-color);\n",
              "    }\n",
              "    80% {\n",
              "      border-color: transparent;\n",
              "      border-right-color: var(--fill-color);\n",
              "      border-bottom-color: var(--fill-color);\n",
              "    }\n",
              "    90% {\n",
              "      border-color: transparent;\n",
              "      border-bottom-color: var(--fill-color);\n",
              "    }\n",
              "  }\n",
              "</style>\n",
              "\n",
              "      <script>\n",
              "        async function quickchart(key) {\n",
              "          const quickchartButtonEl =\n",
              "            document.querySelector('#' + key + ' button');\n",
              "          quickchartButtonEl.disabled = true;  // To prevent multiple clicks.\n",
              "          quickchartButtonEl.classList.add('colab-df-spinner');\n",
              "          try {\n",
              "            const charts = await google.colab.kernel.invokeFunction(\n",
              "                'suggestCharts', [key], {});\n",
              "          } catch (error) {\n",
              "            console.error('Error during call to suggestCharts:', error);\n",
              "          }\n",
              "          quickchartButtonEl.classList.remove('colab-df-spinner');\n",
              "          quickchartButtonEl.classList.add('colab-df-quickchart-complete');\n",
              "        }\n",
              "        (() => {\n",
              "          let quickchartButtonEl =\n",
              "            document.querySelector('#df-06eb5e7e-23ba-42f3-9569-e2fc7948ac75 button');\n",
              "          quickchartButtonEl.style.display =\n",
              "            google.colab.kernel.accessAllowed ? 'block' : 'none';\n",
              "        })();\n",
              "      </script>\n",
              "    </div>\n",
              "\n",
              "    </div>\n",
              "  </div>\n"
            ],
            "text/plain": [
              "                                                text airline_sentiment\n",
              "0                @VirginAmerica What @dhepburn said.           neutral\n",
              "1  @VirginAmerica plus you've added commercials t...          positive\n",
              "2  @VirginAmerica I didn't today... Must mean I n...           neutral\n",
              "3  @VirginAmerica it's really aggressive to blast...          negative\n",
              "4  @VirginAmerica and it's a really big bad thing...          negative"
            ]
          },
          "execution_count": 17,
          "metadata": {},
          "output_type": "execute_result"
        }
      ],
      "source": [
        "df.head()"
      ]
    },
    {
      "cell_type": "code",
      "execution_count": 31,
      "id": "KT463YnNS0id",
      "metadata": {
        "colab": {
          "base_uri": "https://localhost:8080/"
        },
        "id": "KT463YnNS0id",
        "outputId": "809d5455-5cab-426c-c711-c5441bf1a243"
      },
      "outputs": [
        {
          "name": "stdout",
          "output_type": "stream",
          "text": [
            "Sentiment Mapping: {np.int64(0): 'negative', np.int64(1): 'neutral', np.int64(2): 'positive'}\n"
          ]
        }
      ],
      "source": [
        "# --- 2. Data Preprocessing ---\n",
        "\n",
        "# Convert sentiment labels to numerical format\n",
        "# 'negative' -> 0, 'neutral' -> 1, 'positive' -> 2\n",
        "label_encoder = LabelEncoder()\n",
        "df['airline_sentiment_encoded'] = label_encoder.fit_transform(df['airline_sentiment'])\n",
        "\n",
        "# Map the encoded labels back to original for understanding later\n",
        "sentiment_mapping = dict(zip(label_encoder.transform(label_encoder.classes_), label_encoder.classes_))\n",
        "print(f\"Sentiment Mapping: {sentiment_mapping}\")\n",
        "\n"
      ]
    },
    {
      "cell_type": "code",
      "execution_count": 32,
      "id": "3hwCb3WytPlI",
      "metadata": {
        "colab": {
          "base_uri": "https://localhost:8080/",
          "height": 240
        },
        "id": "3hwCb3WytPlI",
        "outputId": "bd15a703-2b41-43a5-817c-4e9086fa4b54"
      },
      "outputs": [
        {
          "name": "stderr",
          "output_type": "stream",
          "text": [
            "<>:4: SyntaxWarning: invalid escape sequence '\\s'\n",
            "<>:5: SyntaxWarning: invalid escape sequence '\\S'\n",
            "<>:8: SyntaxWarning: invalid escape sequence '\\w'\n",
            "<>:9: SyntaxWarning: invalid escape sequence '\\s'\n",
            "<>:4: SyntaxWarning: invalid escape sequence '\\s'\n",
            "<>:5: SyntaxWarning: invalid escape sequence '\\S'\n",
            "<>:8: SyntaxWarning: invalid escape sequence '\\w'\n",
            "<>:9: SyntaxWarning: invalid escape sequence '\\s'\n",
            "/tmp/ipykernel_20718/2854520355.py:4: SyntaxWarning: invalid escape sequence '\\s'\n",
            "  text = re.sub('@[^\\s]+', 'user', text) # Replace @mentions with 'user'\n",
            "/tmp/ipykernel_20718/2854520355.py:5: SyntaxWarning: invalid escape sequence '\\S'\n",
            "  text = re.sub('http\\S+|www\\S+|https\\S+', 'url', text) # Replace URLs with 'url'\n",
            "/tmp/ipykernel_20718/2854520355.py:8: SyntaxWarning: invalid escape sequence '\\w'\n",
            "  text = re.sub('\\w*\\d\\w*', '', text) # Remove words containing numbers\n",
            "/tmp/ipykernel_20718/2854520355.py:9: SyntaxWarning: invalid escape sequence '\\s'\n",
            "  text = re.sub('\\s+', ' ', text).strip() # Remove extra spaces\n"
          ]
        },
        {
          "data": {
            "text/plain": [
              "0                                  user what user said\n",
              "1    user plus youve added commercials to the exper...\n",
              "2    user i didnt today must mean i need to take an...\n",
              "3    user its really aggressive to blast obnoxious ...\n",
              "4         user and its a really big bad thing about it\n",
              "Name: cleaned_text, dtype: object"
            ]
          },
          "execution_count": 32,
          "metadata": {},
          "output_type": "execute_result"
        }
      ],
      "source": [
        "# Basic Text Cleaning Function\n",
        "def clean_text(text):\n",
        "    text = text.lower() # Convert to lowercase\n",
        "    text = re.sub('@[^\\s]+', 'user', text) # Replace @mentions with 'user'\n",
        "    text = re.sub('http\\S+|www\\S+|https\\S+', 'url', text) # Replace URLs with 'url'\n",
        "    text = re.sub('[%s]' % re.escape(string.punctuation), '', text) # Remove punctuation\n",
        "    text = re.sub('\\n', '', text) # Remove newline characters\n",
        "    text = re.sub('\\w*\\d\\w*', '', text) # Remove words containing numbers\n",
        "    text = re.sub('\\s+', ' ', text).strip() # Remove extra spaces\n",
        "    return text\n",
        "\n",
        "df['cleaned_text'] = df['text'].apply(clean_text)\n",
        "\n",
        "df['cleaned_text'].head()"
      ]
    },
    {
      "cell_type": "code",
      "execution_count": 33,
      "id": "5thW-grMtVHy",
      "metadata": {
        "colab": {
          "base_uri": "https://localhost:8080/"
        },
        "id": "5thW-grMtVHy",
        "outputId": "cb21668a-6e8e-407e-d4a5-29cf6e29d801"
      },
      "outputs": [
        {
          "name": "stdout",
          "output_type": "stream",
          "text": [
            "\n",
            "Sample of original text: @VirginAmerica What @dhepburn said.\n",
            "Sample of cleaned text: user what user said\n",
            "Sample of integer sequence: [2, 55, 2, 211]\n",
            "Sample of padded sequence: [  2  55   2 211   0   0   0   0   0   0   0   0   0   0   0   0   0   0\n",
            "   0   0   0   0   0   0   0   0   0   0   0   0   0   0   0   0   0   0\n",
            "   0   0   0   0   0   0   0   0   0   0   0   0   0   0]\n",
            "Shape of padded sequences: (14640, 50)\n"
          ]
        }
      ],
      "source": [
        "# --- 3. Tokenization and Padding ---\n",
        "\n",
        "# Define vocabulary size and max sequence length\n",
        "VOCAB_SIZE = 10000  # Consider top 10,000 most frequent words\n",
        "MAX_SEQUENCE_LENGTH = 50 # Max length of a tweet (adjust as needed, consider padding longer tweets)\n",
        "\n",
        "tokenizer = Tokenizer(num_words=VOCAB_SIZE, oov_token=\"<unk>\")\n",
        "tokenizer.fit_on_texts(df['cleaned_text'])\n",
        "\n",
        "# Convert texts to sequences of integers\n",
        "sequences = tokenizer.texts_to_sequences(df['cleaned_text'])\n",
        "\n",
        "# Pad sequences to ensure uniform length\n",
        "padded_sequences = pad_sequences(sequences, maxlen=MAX_SEQUENCE_LENGTH, padding='post', truncating='post')\n",
        "\n",
        "print(f\"\\nSample of original text: {df['text'][0]}\")\n",
        "print(f\"Sample of cleaned text: {df['cleaned_text'][0]}\")\n",
        "print(f\"Sample of integer sequence: {sequences[0]}\")\n",
        "print(f\"Sample of padded sequence: {padded_sequences[0]}\")\n",
        "print(f\"Shape of padded sequences: {padded_sequences.shape}\")\n",
        "\n"
      ]
    },
    {
      "cell_type": "code",
      "execution_count": 34,
      "id": "b1kM-HOwtZqv",
      "metadata": {
        "colab": {
          "base_uri": "https://localhost:8080/"
        },
        "id": "b1kM-HOwtZqv",
        "outputId": "21c115d1-8bc6-4d62-cc1a-6eeaab48d684"
      },
      "outputs": [
        {
          "name": "stdout",
          "output_type": "stream",
          "text": [
            "\n",
            "X_train shape: (11712, 50), y_train shape: (11712,)\n",
            "X_test shape: (2928, 50), y_test shape: (2928,)\n"
          ]
        }
      ],
      "source": [
        "# --- 4. Prepare Data for Training ---\n",
        "\n",
        "X = padded_sequences\n",
        "y = df['airline_sentiment_encoded'].values\n",
        "\n",
        "# Split data into training and testing sets\n",
        "X_train, X_test, y_train, y_test = train_test_split(X, y, test_size=0.2, random_state=42, stratify=y)\n",
        "\n",
        "print(f\"\\nX_train shape: {X_train.shape}, y_train shape: {y_train.shape}\")\n",
        "print(f\"X_test shape: {X_test.shape}, y_test shape: {y_test.shape}\")\n"
      ]
    },
    {
      "cell_type": "code",
      "execution_count": 35,
      "id": "3V8hhD3Vth3B",
      "metadata": {
        "colab": {
          "base_uri": "https://localhost:8080/",
          "height": 364
        },
        "id": "3V8hhD3Vth3B",
        "outputId": "50f0617e-20be-40f3-9f8e-a17578be6864"
      },
      "outputs": [
        {
          "name": "stderr",
          "output_type": "stream",
          "text": [
            "/usr/local/python/3.12.1/lib/python3.12/site-packages/keras/src/layers/core/embedding.py:97: UserWarning: Argument `input_length` is deprecated. Just remove it.\n",
            "  warnings.warn(\n"
          ]
        },
        {
          "data": {
            "text/html": [
              "<pre style=\"white-space:pre;overflow-x:auto;line-height:normal;font-family:Menlo,'DejaVu Sans Mono',consolas,'Courier New',monospace\"><span style=\"font-weight: bold\">Model: \"sequential_1\"</span>\n",
              "</pre>\n"
            ],
            "text/plain": [
              "\u001b[1mModel: \"sequential_1\"\u001b[0m\n"
            ]
          },
          "metadata": {},
          "output_type": "display_data"
        },
        {
          "data": {
            "text/html": [
              "<pre style=\"white-space:pre;overflow-x:auto;line-height:normal;font-family:Menlo,'DejaVu Sans Mono',consolas,'Courier New',monospace\">┏━━━━━━━━━━━━━━━━━━━━━━━━━━━━━━━━━┳━━━━━━━━━━━━━━━━━━━━━━━━┳━━━━━━━━━━━━━━━┓\n",
              "┃<span style=\"font-weight: bold\"> Layer (type)                    </span>┃<span style=\"font-weight: bold\"> Output Shape           </span>┃<span style=\"font-weight: bold\">       Param # </span>┃\n",
              "┡━━━━━━━━━━━━━━━━━━━━━━━━━━━━━━━━━╇━━━━━━━━━━━━━━━━━━━━━━━━╇━━━━━━━━━━━━━━━┩\n",
              "│ embedding_1 (<span style=\"color: #0087ff; text-decoration-color: #0087ff\">Embedding</span>)         │ ?                      │   <span style=\"color: #00af00; text-decoration-color: #00af00\">0</span> (unbuilt) │\n",
              "├─────────────────────────────────┼────────────────────────┼───────────────┤\n",
              "│ lstm (<span style=\"color: #0087ff; text-decoration-color: #0087ff\">LSTM</span>)                     │ ?                      │   <span style=\"color: #00af00; text-decoration-color: #00af00\">0</span> (unbuilt) │\n",
              "├─────────────────────────────────┼────────────────────────┼───────────────┤\n",
              "│ dropout (<span style=\"color: #0087ff; text-decoration-color: #0087ff\">Dropout</span>)               │ ?                      │             <span style=\"color: #00af00; text-decoration-color: #00af00\">0</span> │\n",
              "├─────────────────────────────────┼────────────────────────┼───────────────┤\n",
              "│ dense (<span style=\"color: #0087ff; text-decoration-color: #0087ff\">Dense</span>)                   │ ?                      │   <span style=\"color: #00af00; text-decoration-color: #00af00\">0</span> (unbuilt) │\n",
              "├─────────────────────────────────┼────────────────────────┼───────────────┤\n",
              "│ dropout_1 (<span style=\"color: #0087ff; text-decoration-color: #0087ff\">Dropout</span>)             │ ?                      │             <span style=\"color: #00af00; text-decoration-color: #00af00\">0</span> │\n",
              "├─────────────────────────────────┼────────────────────────┼───────────────┤\n",
              "│ dense_1 (<span style=\"color: #0087ff; text-decoration-color: #0087ff\">Dense</span>)                 │ ?                      │   <span style=\"color: #00af00; text-decoration-color: #00af00\">0</span> (unbuilt) │\n",
              "└─────────────────────────────────┴────────────────────────┴───────────────┘\n",
              "</pre>\n"
            ],
            "text/plain": [
              "┏━━━━━━━━━━━━━━━━━━━━━━━━━━━━━━━━━┳━━━━━━━━━━━━━━━━━━━━━━━━┳━━━━━━━━━━━━━━━┓\n",
              "┃\u001b[1m \u001b[0m\u001b[1mLayer (type)                   \u001b[0m\u001b[1m \u001b[0m┃\u001b[1m \u001b[0m\u001b[1mOutput Shape          \u001b[0m\u001b[1m \u001b[0m┃\u001b[1m \u001b[0m\u001b[1m      Param #\u001b[0m\u001b[1m \u001b[0m┃\n",
              "┡━━━━━━━━━━━━━━━━━━━━━━━━━━━━━━━━━╇━━━━━━━━━━━━━━━━━━━━━━━━╇━━━━━━━━━━━━━━━┩\n",
              "│ embedding_1 (\u001b[38;5;33mEmbedding\u001b[0m)         │ ?                      │   \u001b[38;5;34m0\u001b[0m (unbuilt) │\n",
              "├─────────────────────────────────┼────────────────────────┼───────────────┤\n",
              "│ lstm (\u001b[38;5;33mLSTM\u001b[0m)                     │ ?                      │   \u001b[38;5;34m0\u001b[0m (unbuilt) │\n",
              "├─────────────────────────────────┼────────────────────────┼───────────────┤\n",
              "│ dropout (\u001b[38;5;33mDropout\u001b[0m)               │ ?                      │             \u001b[38;5;34m0\u001b[0m │\n",
              "├─────────────────────────────────┼────────────────────────┼───────────────┤\n",
              "│ dense (\u001b[38;5;33mDense\u001b[0m)                   │ ?                      │   \u001b[38;5;34m0\u001b[0m (unbuilt) │\n",
              "├─────────────────────────────────┼────────────────────────┼───────────────┤\n",
              "│ dropout_1 (\u001b[38;5;33mDropout\u001b[0m)             │ ?                      │             \u001b[38;5;34m0\u001b[0m │\n",
              "├─────────────────────────────────┼────────────────────────┼───────────────┤\n",
              "│ dense_1 (\u001b[38;5;33mDense\u001b[0m)                 │ ?                      │   \u001b[38;5;34m0\u001b[0m (unbuilt) │\n",
              "└─────────────────────────────────┴────────────────────────┴───────────────┘\n"
            ]
          },
          "metadata": {},
          "output_type": "display_data"
        },
        {
          "data": {
            "text/html": [
              "<pre style=\"white-space:pre;overflow-x:auto;line-height:normal;font-family:Menlo,'DejaVu Sans Mono',consolas,'Courier New',monospace\"><span style=\"font-weight: bold\"> Total params: </span><span style=\"color: #00af00; text-decoration-color: #00af00\">0</span> (0.00 B)\n",
              "</pre>\n"
            ],
            "text/plain": [
              "\u001b[1m Total params: \u001b[0m\u001b[38;5;34m0\u001b[0m (0.00 B)\n"
            ]
          },
          "metadata": {},
          "output_type": "display_data"
        },
        {
          "data": {
            "text/html": [
              "<pre style=\"white-space:pre;overflow-x:auto;line-height:normal;font-family:Menlo,'DejaVu Sans Mono',consolas,'Courier New',monospace\"><span style=\"font-weight: bold\"> Trainable params: </span><span style=\"color: #00af00; text-decoration-color: #00af00\">0</span> (0.00 B)\n",
              "</pre>\n"
            ],
            "text/plain": [
              "\u001b[1m Trainable params: \u001b[0m\u001b[38;5;34m0\u001b[0m (0.00 B)\n"
            ]
          },
          "metadata": {},
          "output_type": "display_data"
        },
        {
          "data": {
            "text/html": [
              "<pre style=\"white-space:pre;overflow-x:auto;line-height:normal;font-family:Menlo,'DejaVu Sans Mono',consolas,'Courier New',monospace\"><span style=\"font-weight: bold\"> Non-trainable params: </span><span style=\"color: #00af00; text-decoration-color: #00af00\">0</span> (0.00 B)\n",
              "</pre>\n"
            ],
            "text/plain": [
              "\u001b[1m Non-trainable params: \u001b[0m\u001b[38;5;34m0\u001b[0m (0.00 B)\n"
            ]
          },
          "metadata": {},
          "output_type": "display_data"
        }
      ],
      "source": [
        "# --- 5. Build the RNN Model ---\n",
        "\n",
        "# Model Parameters\n",
        "EMBEDDING_DIM = 100 # Dimension of the word embeddings\n",
        "RNN_UNITS = 128 # Number of units in the RNN layer (e.g., LSTM or GRU)\n",
        "NUM_CLASSES = len(label_encoder.classes_) # 3 classes: negative, neutral, positive\n",
        "\n",
        "model = Sequential()\n",
        "model.add(Embedding(input_dim=VOCAB_SIZE,output_dim=EMBEDDING_DIM, input_length=MAX_SEQUENCE_LENGTH))\n",
        "model.add(LSTM(RNN_UNITS, return_sequences=False))\n",
        "model.add(Dropout(0.3))\n",
        "model.add(Dense(64, activation='relu'))\n",
        "model.add(Dropout(0.3))\n",
        "model.add(Dense(NUM_CLASSES, activation='softmax'))\n",
        "\n",
        "model.compile(optimizer='adam',\n",
        "              loss='sparse_categorical_crossentropy',\n",
        "              metrics=['accuracy'])\n",
        "\n",
        "model.summary()\n"
      ]
    },
    {
      "cell_type": "code",
      "execution_count": 36,
      "id": "ct0BXM7DtgCO",
      "metadata": {
        "colab": {
          "base_uri": "https://localhost:8080/"
        },
        "id": "ct0BXM7DtgCO",
        "outputId": "e3748f0b-9faa-473a-f6cc-7e107778f2ec"
      },
      "outputs": [
        {
          "name": "stdout",
          "output_type": "stream",
          "text": [
            "Epoch 1/10\n"
          ]
        },
        {
          "name": "stdout",
          "output_type": "stream",
          "text": [
            "\u001b[1m165/165\u001b[0m \u001b[32m━━━━━━━━━━━━━━━━━━━━\u001b[0m\u001b[37m\u001b[0m \u001b[1m15s\u001b[0m 76ms/step - accuracy: 0.6262 - loss: 0.9100 - val_accuracy: 0.6809 - val_loss: 0.7256\n",
            "Epoch 2/10\n",
            "\u001b[1m165/165\u001b[0m \u001b[32m━━━━━━━━━━━━━━━━━━━━\u001b[0m\u001b[37m\u001b[0m \u001b[1m12s\u001b[0m 75ms/step - accuracy: 0.7284 - loss: 0.6007 - val_accuracy: 0.7551 - val_loss: 0.5932\n",
            "Epoch 3/10\n",
            "\u001b[1m165/165\u001b[0m \u001b[32m━━━━━━━━━━━━━━━━━━━━\u001b[0m\u001b[37m\u001b[0m \u001b[1m12s\u001b[0m 75ms/step - accuracy: 0.8217 - loss: 0.4562 - val_accuracy: 0.7619 - val_loss: 0.7472\n",
            "Epoch 4/10\n",
            "\u001b[1m165/165\u001b[0m \u001b[32m━━━━━━━━━━━━━━━━━━━━\u001b[0m\u001b[37m\u001b[0m \u001b[1m13s\u001b[0m 76ms/step - accuracy: 0.8665 - loss: 0.3752 - val_accuracy: 0.7637 - val_loss: 0.6235\n",
            "Epoch 5/10\n",
            "\u001b[1m165/165\u001b[0m \u001b[32m━━━━━━━━━━━━━━━━━━━━\u001b[0m\u001b[37m\u001b[0m \u001b[1m13s\u001b[0m 77ms/step - accuracy: 0.8910 - loss: 0.3279 - val_accuracy: 0.6869 - val_loss: 0.8999\n"
          ]
        }
      ],
      "source": [
        "# --- 6. Train the Model ---\n",
        "\n",
        "BATCH_SIZE = 64\n",
        "EPOCHS = 10\n",
        "\n",
        "early_stopping = EarlyStopping(monitor='val_loss', patience=3, restore_best_weights=True)\n",
        "model_checkpoint = ModelCheckpoint('best_rnn_sentiment_model.keras', save_best_only=True, monitor='val_loss', mode='min')\n",
        "\n",
        "\n",
        "history = model.fit(X_train, y_train,\n",
        "                    batch_size=BATCH_SIZE,\n",
        "                    epochs=EPOCHS,\n",
        "                    validation_split=0.1,\n",
        "                    callbacks=[early_stopping, model_checkpoint])"
      ]
    },
    {
      "cell_type": "code",
      "execution_count": 37,
      "id": "3DYPod3TteGY",
      "metadata": {
        "colab": {
          "base_uri": "https://localhost:8080/",
          "height": 561
        },
        "id": "3DYPod3TteGY",
        "outputId": "b010f194-eb27-464f-9d99-2275ee06fa5c"
      },
      "outputs": [
        {
          "name": "stdout",
          "output_type": "stream",
          "text": [
            "\n",
            "Test Loss: 0.5763\n",
            "Test Accuracy: 0.7657\n"
          ]
        },
        {
          "data": {
            "image/png": "[encoded data removed]",
            "text/plain": [
              "<Figure size 1200x500 with 2 Axes>"
            ]
          },
          "metadata": {},
          "output_type": "display_data"
        }
      ],
      "source": [
        "# --- 7. Evaluate the Model ---\n",
        "\n",
        "loss, accuracy = model.evaluate(X_test, y_test, verbose=0)\n",
        "print(f\"\\nTest Loss: {loss:.4f}\")\n",
        "print(f\"Test Accuracy: {accuracy:.4f}\")\n",
        "\n",
        "# Plot training history\n",
        "def plot_history(history):\n",
        "    plt.figure(figsize=(12, 5))\n",
        "\n",
        "    plt.subplot(1, 2, 1)\n",
        "    plt.plot(history.history['accuracy'], label='Training Accuracy')\n",
        "    plt.plot(history.history['val_accuracy'], label='Validation Accuracy')\n",
        "    plt.title('Training and Validation Accuracy')\n",
        "    plt.xlabel('Epoch')\n",
        "    plt.ylabel('Accuracy')\n",
        "    plt.legend()\n",
        "\n",
        "    plt.subplot(1, 2, 2)\n",
        "    plt.plot(history.history['loss'], label='Training Loss')\n",
        "    plt.plot(history.history['val_loss'], label='Validation Loss')\n",
        "    plt.title('Training and Validation Loss')\n",
        "    plt.xlabel('Epoch')\n",
        "    plt.ylabel('Loss')\n",
        "    plt.legend()\n",
        "\n",
        "    plt.tight_layout()\n",
        "    plt.show()\n",
        "\n",
        "plot_history(history)\n"
      ]
    },
    {
      "cell_type": "markdown",
      "id": "r2HymnWs731x",
      "metadata": {
        "id": "r2HymnWs731x"
      },
      "source": [
        "---\n",
        "## Section 4: Long Short-Term Memory (LSTM) and Gated Recurrent Unit (GRU)\n",
        "\n",
        "LSTMs and GRUs are advanced types of RNNs designed to overcome the vanishing gradient problem and better capture long-range dependencies. They achieve this through \"gates\" that control the flow of information.\n",
        "\n",
        "### 4.1 Introduction to LSTMs\n",
        "\n",
        "LSTMs introduce a \"cell state\" in addition to the hidden state. This cell state acts as a conveyor belt, carrying information across many time steps. Gates (input, forget, output) regulate what information gets stored in, removed from, and read from the cell state.\n",
        "\n",
        "### 4.2 Introduction to GRUs\n",
        "\n",
        "GRUs are a simplified version of LSTMs. They combine the hidden state and cell state into a single \"hidden state\" and use fewer gates (update, reset) to control information flow. GRUs are computationally less expensive than LSTMs and often perform similarly.\n",
        "\n",
        "### 4.3 Implementing LSTMs and GRUs\n",
        "\n",
        "Keras and PyTorch provide `LSTM` and `GRU` layers that are straightforward to use, similar to `SimpleRNN`.\n",
        "\n",
        "---\n",
        "**Task 4: LSTM and GRU for Sequence Classification**\n",
        "\n",
        "In this task, you will replace the `SimpleRNN` with `LSTM` and `GRU` layers and compare their performance.\n",
        "\n",
        "1.  **Revisit Toy Dataset:** Use the same toy dataset you created in Task 3. (Already loaded as `toy_X`, `toy_y`)\n",
        "\n",
        "2.  **Build LSTM Model:**\n",
        "    * Create a new Keras (or PyTorch) model, similar to Task 3, but replace the `SimpleRNN` layer with an `LSTM` layer.\n",
        "    * Compile and train the model.\n",
        "    * Evaluate its performance."
      ]
    },
    {
      "cell_type": "code",
      "execution_count": 38,
      "id": "xQp8EvQB731x",
      "metadata": {
        "colab": {
          "base_uri": "https://localhost:8080/",
          "height": 391
        },
        "id": "xQp8EvQB731x",
        "outputId": "cc4c0951-874b-49e6-92f9-afb493d303f6"
      },
      "outputs": [
        {
          "name": "stdout",
          "output_type": "stream",
          "text": [
            "\n",
            "--- Task 4: LSTM and GRU for Sequence Classification ---\n",
            "\n",
            "Building and training LSTM model...\n",
            "\n",
            "LSTM Model Summary:\n"
          ]
        },
        {
          "data": {
            "text/html": [
              "<pre style=\"white-space:pre;overflow-x:auto;line-height:normal;font-family:Menlo,'DejaVu Sans Mono',consolas,'Courier New',monospace\"><span style=\"font-weight: bold\">Model: \"sequential_2\"</span>\n",
              "</pre>\n"
            ],
            "text/plain": [
              "\u001b[1mModel: \"sequential_2\"\u001b[0m\n"
            ]
          },
          "metadata": {},
          "output_type": "display_data"
        },
        {
          "data": {
            "text/html": [
              "<pre style=\"white-space:pre;overflow-x:auto;line-height:normal;font-family:Menlo,'DejaVu Sans Mono',consolas,'Courier New',monospace\">┏━━━━━━━━━━━━━━━━━━━━━━━━━━━━━━━━━┳━━━━━━━━━━━━━━━━━━━━━━━━┳━━━━━━━━━━━━━━━┓\n",
              "┃<span style=\"font-weight: bold\"> Layer (type)                    </span>┃<span style=\"font-weight: bold\"> Output Shape           </span>┃<span style=\"font-weight: bold\">       Param # </span>┃\n",
              "┡━━━━━━━━━━━━━━━━━━━━━━━━━━━━━━━━━╇━━━━━━━━━━━━━━━━━━━━━━━━╇━━━━━━━━━━━━━━━┩\n",
              "│ embedding_2 (<span style=\"color: #0087ff; text-decoration-color: #0087ff\">Embedding</span>)         │ ?                      │   <span style=\"color: #00af00; text-decoration-color: #00af00\">0</span> (unbuilt) │\n",
              "├─────────────────────────────────┼────────────────────────┼───────────────┤\n",
              "│ lstm_1 (<span style=\"color: #0087ff; text-decoration-color: #0087ff\">LSTM</span>)                   │ ?                      │   <span style=\"color: #00af00; text-decoration-color: #00af00\">0</span> (unbuilt) │\n",
              "├─────────────────────────────────┼────────────────────────┼───────────────┤\n",
              "│ dense_2 (<span style=\"color: #0087ff; text-decoration-color: #0087ff\">Dense</span>)                 │ ?                      │   <span style=\"color: #00af00; text-decoration-color: #00af00\">0</span> (unbuilt) │\n",
              "└─────────────────────────────────┴────────────────────────┴───────────────┘\n",
              "</pre>\n"
            ],
            "text/plain": [
              "┏━━━━━━━━━━━━━━━━━━━━━━━━━━━━━━━━━┳━━━━━━━━━━━━━━━━━━━━━━━━┳━━━━━━━━━━━━━━━┓\n",
              "┃\u001b[1m \u001b[0m\u001b[1mLayer (type)                   \u001b[0m\u001b[1m \u001b[0m┃\u001b[1m \u001b[0m\u001b[1mOutput Shape          \u001b[0m\u001b[1m \u001b[0m┃\u001b[1m \u001b[0m\u001b[1m      Param #\u001b[0m\u001b[1m \u001b[0m┃\n",
              "┡━━━━━━━━━━━━━━━━━━━━━━━━━━━━━━━━━╇━━━━━━━━━━━━━━━━━━━━━━━━╇━━━━━━━━━━━━━━━┩\n",
              "│ embedding_2 (\u001b[38;5;33mEmbedding\u001b[0m)         │ ?                      │   \u001b[38;5;34m0\u001b[0m (unbuilt) │\n",
              "├─────────────────────────────────┼────────────────────────┼───────────────┤\n",
              "│ lstm_1 (\u001b[38;5;33mLSTM\u001b[0m)                   │ ?                      │   \u001b[38;5;34m0\u001b[0m (unbuilt) │\n",
              "├─────────────────────────────────┼────────────────────────┼───────────────┤\n",
              "│ dense_2 (\u001b[38;5;33mDense\u001b[0m)                 │ ?                      │   \u001b[38;5;34m0\u001b[0m (unbuilt) │\n",
              "└─────────────────────────────────┴────────────────────────┴───────────────┘\n"
            ]
          },
          "metadata": {},
          "output_type": "display_data"
        },
        {
          "data": {
            "text/html": [
              "<pre style=\"white-space:pre;overflow-x:auto;line-height:normal;font-family:Menlo,'DejaVu Sans Mono',consolas,'Courier New',monospace\"><span style=\"font-weight: bold\"> Total params: </span><span style=\"color: #00af00; text-decoration-color: #00af00\">0</span> (0.00 B)\n",
              "</pre>\n"
            ],
            "text/plain": [
              "\u001b[1m Total params: \u001b[0m\u001b[38;5;34m0\u001b[0m (0.00 B)\n"
            ]
          },
          "metadata": {},
          "output_type": "display_data"
        },
        {
          "data": {
            "text/html": [
              "<pre style=\"white-space:pre;overflow-x:auto;line-height:normal;font-family:Menlo,'DejaVu Sans Mono',consolas,'Courier New',monospace\"><span style=\"font-weight: bold\"> Trainable params: </span><span style=\"color: #00af00; text-decoration-color: #00af00\">0</span> (0.00 B)\n",
              "</pre>\n"
            ],
            "text/plain": [
              "\u001b[1m Trainable params: \u001b[0m\u001b[38;5;34m0\u001b[0m (0.00 B)\n"
            ]
          },
          "metadata": {},
          "output_type": "display_data"
        },
        {
          "data": {
            "text/html": [
              "<pre style=\"white-space:pre;overflow-x:auto;line-height:normal;font-family:Menlo,'DejaVu Sans Mono',consolas,'Courier New',monospace\"><span style=\"font-weight: bold\"> Non-trainable params: </span><span style=\"color: #00af00; text-decoration-color: #00af00\">0</span> (0.00 B)\n",
              "</pre>\n"
            ],
            "text/plain": [
              "\u001b[1m Non-trainable params: \u001b[0m\u001b[38;5;34m0\u001b[0m (0.00 B)\n"
            ]
          },
          "metadata": {},
          "output_type": "display_data"
        },
        {
          "name": "stdout",
          "output_type": "stream",
          "text": [
            "LSTM Training Accuracy: 0.2107\n",
            "LSTM Validation Accuracy: 0.2155\n",
            "LSTM Final Accuracy on full toy dataset: 0.2117\n"
          ]
        }
      ],
      "source": [
        "print(\"\\n--- Task 4: LSTM and GRU for Sequence Classification ---\")\n",
        "print(\"\\nBuilding and training LSTM model...\")\n",
        "model_lstm = Sequential([\n",
        "    Embedding(input_dim=VOCAB_SIZE,output_dim=EMBEDDING_DIM, input_length=MAX_SEQUENCE_LENGTH),\n",
        "    LSTM(units=32),\n",
        "    Dense(1, activation='sigmoid')\n",
        "])\n",
        "\n",
        "model_lstm.compile(optimizer='adam', loss='binary_crossentropy', metrics=['accuracy'])\n",
        "print(\"\\nLSTM Model Summary:\")\n",
        "model_lstm.summary()\n",
        "\n",
        "history_lstm = model_lstm.fit(X_train, y_train, epochs=EPOCHS, batch_size=BATCH_SIZE, validation_split=0.2, verbose=0)\n",
        "\n",
        "loss_lstm, accuracy_lstm = model_lstm.evaluate(X_test, y_test, verbose=0)\n",
        "print(f\"LSTM Training Accuracy: {history_lstm.history['accuracy'][-1]:.4f}\")\n",
        "print(f\"LSTM Validation Accuracy: {history_lstm.history['val_accuracy'][-1]:.4f}\")\n",
        "print(f\"LSTM Final Accuracy on full toy dataset: {accuracy_lstm:.4f}\")\n",
        "\n",
        "\n"
      ]
    },
    {
      "cell_type": "code",
      "execution_count": 39,
      "id": "-flUOHFWweZd",
      "metadata": {
        "colab": {
          "base_uri": "https://localhost:8080/",
          "height": 355
        },
        "id": "-flUOHFWweZd",
        "outputId": "328cb58a-d0f0-4df0-a6c3-f583fc722eec"
      },
      "outputs": [
        {
          "name": "stdout",
          "output_type": "stream",
          "text": [
            "\n",
            "Building and training GRU model...\n",
            "\n",
            "GRU Model Summary:\n"
          ]
        },
        {
          "data": {
            "text/html": [
              "<pre style=\"white-space:pre;overflow-x:auto;line-height:normal;font-family:Menlo,'DejaVu Sans Mono',consolas,'Courier New',monospace\"><span style=\"font-weight: bold\">Model: \"sequential_3\"</span>\n",
              "</pre>\n"
            ],
            "text/plain": [
              "\u001b[1mModel: \"sequential_3\"\u001b[0m\n"
            ]
          },
          "metadata": {},
          "output_type": "display_data"
        },
        {
          "data": {
            "text/html": [
              "<pre style=\"white-space:pre;overflow-x:auto;line-height:normal;font-family:Menlo,'DejaVu Sans Mono',consolas,'Courier New',monospace\">┏━━━━━━━━━━━━━━━━━━━━━━━━━━━━━━━━━┳━━━━━━━━━━━━━━━━━━━━━━━━┳━━━━━━━━━━━━━━━┓\n",
              "┃<span style=\"font-weight: bold\"> Layer (type)                    </span>┃<span style=\"font-weight: bold\"> Output Shape           </span>┃<span style=\"font-weight: bold\">       Param # </span>┃\n",
              "┡━━━━━━━━━━━━━━━━━━━━━━━━━━━━━━━━━╇━━━━━━━━━━━━━━━━━━━━━━━━╇━━━━━━━━━━━━━━━┩\n",
              "│ embedding_3 (<span style=\"color: #0087ff; text-decoration-color: #0087ff\">Embedding</span>)         │ ?                      │   <span style=\"color: #00af00; text-decoration-color: #00af00\">0</span> (unbuilt) │\n",
              "├─────────────────────────────────┼────────────────────────┼───────────────┤\n",
              "│ gru (<span style=\"color: #0087ff; text-decoration-color: #0087ff\">GRU</span>)                       │ ?                      │   <span style=\"color: #00af00; text-decoration-color: #00af00\">0</span> (unbuilt) │\n",
              "├─────────────────────────────────┼────────────────────────┼───────────────┤\n",
              "│ dense_3 (<span style=\"color: #0087ff; text-decoration-color: #0087ff\">Dense</span>)                 │ ?                      │   <span style=\"color: #00af00; text-decoration-color: #00af00\">0</span> (unbuilt) │\n",
              "└─────────────────────────────────┴────────────────────────┴───────────────┘\n",
              "</pre>\n"
            ],
            "text/plain": [
              "┏━━━━━━━━━━━━━━━━━━━━━━━━━━━━━━━━━┳━━━━━━━━━━━━━━━━━━━━━━━━┳━━━━━━━━━━━━━━━┓\n",
              "┃\u001b[1m \u001b[0m\u001b[1mLayer (type)                   \u001b[0m\u001b[1m \u001b[0m┃\u001b[1m \u001b[0m\u001b[1mOutput Shape          \u001b[0m\u001b[1m \u001b[0m┃\u001b[1m \u001b[0m\u001b[1m      Param #\u001b[0m\u001b[1m \u001b[0m┃\n",
              "┡━━━━━━━━━━━━━━━━━━━━━━━━━━━━━━━━━╇━━━━━━━━━━━━━━━━━━━━━━━━╇━━━━━━━━━━━━━━━┩\n",
              "│ embedding_3 (\u001b[38;5;33mEmbedding\u001b[0m)         │ ?                      │   \u001b[38;5;34m0\u001b[0m (unbuilt) │\n",
              "├─────────────────────────────────┼────────────────────────┼───────────────┤\n",
              "│ gru (\u001b[38;5;33mGRU\u001b[0m)                       │ ?                      │   \u001b[38;5;34m0\u001b[0m (unbuilt) │\n",
              "├─────────────────────────────────┼────────────────────────┼───────────────┤\n",
              "│ dense_3 (\u001b[38;5;33mDense\u001b[0m)                 │ ?                      │   \u001b[38;5;34m0\u001b[0m (unbuilt) │\n",
              "└─────────────────────────────────┴────────────────────────┴───────────────┘\n"
            ]
          },
          "metadata": {},
          "output_type": "display_data"
        },
        {
          "data": {
            "text/html": [
              "<pre style=\"white-space:pre;overflow-x:auto;line-height:normal;font-family:Menlo,'DejaVu Sans Mono',consolas,'Courier New',monospace\"><span style=\"font-weight: bold\"> Total params: </span><span style=\"color: #00af00; text-decoration-color: #00af00\">0</span> (0.00 B)\n",
              "</pre>\n"
            ],
            "text/plain": [
              "\u001b[1m Total params: \u001b[0m\u001b[38;5;34m0\u001b[0m (0.00 B)\n"
            ]
          },
          "metadata": {},
          "output_type": "display_data"
        },
        {
          "data": {
            "text/html": [
              "<pre style=\"white-space:pre;overflow-x:auto;line-height:normal;font-family:Menlo,'DejaVu Sans Mono',consolas,'Courier New',monospace\"><span style=\"font-weight: bold\"> Trainable params: </span><span style=\"color: #00af00; text-decoration-color: #00af00\">0</span> (0.00 B)\n",
              "</pre>\n"
            ],
            "text/plain": [
              "\u001b[1m Trainable params: \u001b[0m\u001b[38;5;34m0\u001b[0m (0.00 B)\n"
            ]
          },
          "metadata": {},
          "output_type": "display_data"
        },
        {
          "data": {
            "text/html": [
              "<pre style=\"white-space:pre;overflow-x:auto;line-height:normal;font-family:Menlo,'DejaVu Sans Mono',consolas,'Courier New',monospace\"><span style=\"font-weight: bold\"> Non-trainable params: </span><span style=\"color: #00af00; text-decoration-color: #00af00\">0</span> (0.00 B)\n",
              "</pre>\n"
            ],
            "text/plain": [
              "\u001b[1m Non-trainable params: \u001b[0m\u001b[38;5;34m0\u001b[0m (0.00 B)\n"
            ]
          },
          "metadata": {},
          "output_type": "display_data"
        },
        {
          "name": "stdout",
          "output_type": "stream",
          "text": [
            "GRU Training Accuracy: 0.6575\n",
            "GRU Validation Accuracy: 0.6573\n",
            "GRU Final Accuracy on full toy dataset: 0.6585\n"
          ]
        }
      ],
      "source": [
        "print(\"\\nBuilding and training GRU model...\")\n",
        "model_gru = Sequential([\n",
        "    Embedding(input_dim=VOCAB_SIZE,output_dim=EMBEDDING_DIM, input_length=MAX_SEQUENCE_LENGTH),\n",
        "    GRU(units=32),\n",
        "    Dense(1, activation='sigmoid')\n",
        "])\n",
        "\n",
        "model_gru.compile(optimizer='adam', loss='binary_crossentropy', metrics=['accuracy'])\n",
        "print(\"\\nGRU Model Summary:\")\n",
        "model_gru.summary()\n",
        "\n",
        "history_gru = model_gru.fit(X_train, y_train, epochs=EPOCHS, batch_size=BATCH_SIZE, validation_split=0.2, verbose=0)\n",
        "\n",
        "loss_gru, accuracy_gru = model_gru.evaluate(X_test, y_test, verbose=0)\n",
        "print(f\"GRU Training Accuracy: {history_gru.history['accuracy'][-1]:.4f}\")\n",
        "print(f\"GRU Validation Accuracy: {history_gru.history['val_accuracy'][-1]:.4f}\")\n",
        "print(f\"GRU Final Accuracy on full toy dataset: {accuracy_gru:.4f}\")\n",
        "\n"
      ]
    },
    {
      "cell_type": "code",
      "execution_count": 40,
      "id": "PzWDThsGxdav",
      "metadata": {
        "colab": {
          "base_uri": "https://localhost:8080/"
        },
        "id": "PzWDThsGxdav",
        "outputId": "07b72084-44d1-46f3-8de1-c175a9246af9"
      },
      "outputs": [
        {
          "name": "stdout",
          "output_type": "stream",
          "text": [
            "\n",
            "--- Comparison of RNN, LSTM, GRU Models ---\n",
            "Simple RNN Accuracy: 0.7657\n",
            "LSTM Accuracy:       0.2117\n",
            "GRU Accuracy:        0.6585\n"
          ]
        }
      ],
      "source": [
        "print(\"\\n--- Comparison of RNN, LSTM, GRU Models ---\")\n",
        "print(f\"Simple RNN Accuracy: {accuracy:.4f}\")\n",
        "print(f\"LSTM Accuracy:       {accuracy_lstm:.4f}\")\n",
        "print(f\"GRU Accuracy:        {accuracy_gru:.4f}\")\n",
        "\n"
      ]
    },
    {
      "cell_type": "markdown",
      "id": "XGi2N3Gk731y",
      "metadata": {
        "id": "XGi2N3Gk731y"
      },
      "source": [
        "---\n",
        "## Section 5: Sequence Processing with Convolutional Neural Networks (ConvNets)\n",
        "\n",
        "While traditionally used for image data (2D convolutions), Convolutional Neural Networks (ConvNets) with 1D convolutions can also be very effective for processing sequential data like text. They are good at extracting local features (n-grams).\n",
        "\n",
        "### 5.1 Introduction to 1D Convolutions for Text\n",
        "\n",
        "In text processing, a 1D convolution operates over sequences. A \"filter\" slides across the word embeddings of a sentence, performing a dot product with the words within its receptive field. This allows the network to learn local patterns, such as phrases or n-grams.\n",
        "\n",
        "A typical ConvNet for text classification often involves:\n",
        "* `Embedding` layer\n",
        "* `Conv1D` layer(s)\n",
        "* `GlobalMaxPooling1D` or `GlobalAveragePooling1D` (to reduce dimensions after convolution)\n",
        "* `Dense` layer(s)\n",
        "\n",
        "### 5.2 Implementing ConvNets for Text Classification\n",
        "\n",
        "Keras and PyTorch provide `Conv1D` and pooling layers for this purpose.\n",
        "\n",
        "---\n",
        "**Task 5: ConvNets for Text Classification**\n",
        "\n",
        "In this task, you will build and train a ConvNet for the same toy sequence classification problem.\n",
        "\n",
        "1.  **Revisit Toy Dataset:** Use the same toy dataset you created in Task 3. (Already loaded as `toy_X`, `toy_y`)\n",
        "\n",
        "2.  **Build a ConvNet Model:**\n",
        "    * Create a new Keras (or PyTorch) model.\n",
        "    * Start with an `Embedding` layer.\n",
        "    * Add a `Conv1D` layer. Experiment with `filters` (e.g., 32, 64) and `kernel_size` (e.g., 2, 3, 4, 5, representing n-grams).\n",
        "    * Add a `GlobalMaxPooling1D` layer (or `GlobalAveragePooling1D`) to capture the most important feature across the sequence.\n",
        "    * Add a `Dense` output layer with a sigmoid activation.\n",
        "    * Compile and train the model.\n",
        "    * Evaluate its performance."
      ]
    },
    {
      "cell_type": "code",
      "execution_count": 41,
      "id": "2lg8RKNn731y",
      "metadata": {
        "colab": {
          "base_uri": "https://localhost:8080/",
          "height": 440
        },
        "id": "2lg8RKNn731y",
        "outputId": "0358916a-8759-44f1-d431-5981b98ad7e2"
      },
      "outputs": [
        {
          "name": "stdout",
          "output_type": "stream",
          "text": [
            "\n",
            "--- Task 5: ConvNets for Text Classification ---\n",
            "\n",
            "Building and training ConvNet model...\n",
            "\n",
            "ConvNet Model Summary:\n"
          ]
        },
        {
          "data": {
            "text/html": [
              "<pre style=\"white-space:pre;overflow-x:auto;line-height:normal;font-family:Menlo,'DejaVu Sans Mono',consolas,'Courier New',monospace\"><span style=\"font-weight: bold\">Model: \"sequential_4\"</span>\n",
              "</pre>\n"
            ],
            "text/plain": [
              "\u001b[1mModel: \"sequential_4\"\u001b[0m\n"
            ]
          },
          "metadata": {},
          "output_type": "display_data"
        },
        {
          "data": {
            "text/html": [
              "<pre style=\"white-space:pre;overflow-x:auto;line-height:normal;font-family:Menlo,'DejaVu Sans Mono',consolas,'Courier New',monospace\">┏━━━━━━━━━━━━━━━━━━━━━━━━━━━━━━━━━┳━━━━━━━━━━━━━━━━━━━━━━━━┳━━━━━━━━━━━━━━━┓\n",
              "┃<span style=\"font-weight: bold\"> Layer (type)                    </span>┃<span style=\"font-weight: bold\"> Output Shape           </span>┃<span style=\"font-weight: bold\">       Param # </span>┃\n",
              "┡━━━━━━━━━━━━━━━━━━━━━━━━━━━━━━━━━╇━━━━━━━━━━━━━━━━━━━━━━━━╇━━━━━━━━━━━━━━━┩\n",
              "│ embedding_4 (<span style=\"color: #0087ff; text-decoration-color: #0087ff\">Embedding</span>)         │ ?                      │   <span style=\"color: #00af00; text-decoration-color: #00af00\">0</span> (unbuilt) │\n",
              "├─────────────────────────────────┼────────────────────────┼───────────────┤\n",
              "│ conv1d (<span style=\"color: #0087ff; text-decoration-color: #0087ff\">Conv1D</span>)                 │ ?                      │   <span style=\"color: #00af00; text-decoration-color: #00af00\">0</span> (unbuilt) │\n",
              "├─────────────────────────────────┼────────────────────────┼───────────────┤\n",
              "│ global_max_pooling1d            │ ?                      │             <span style=\"color: #00af00; text-decoration-color: #00af00\">0</span> │\n",
              "│ (<span style=\"color: #0087ff; text-decoration-color: #0087ff\">GlobalMaxPooling1D</span>)            │                        │               │\n",
              "├─────────────────────────────────┼────────────────────────┼───────────────┤\n",
              "│ dense_4 (<span style=\"color: #0087ff; text-decoration-color: #0087ff\">Dense</span>)                 │ ?                      │   <span style=\"color: #00af00; text-decoration-color: #00af00\">0</span> (unbuilt) │\n",
              "└─────────────────────────────────┴────────────────────────┴───────────────┘\n",
              "</pre>\n"
            ],
            "text/plain": [
              "┏━━━━━━━━━━━━━━━━━━━━━━━━━━━━━━━━━┳━━━━━━━━━━━━━━━━━━━━━━━━┳━━━━━━━━━━━━━━━┓\n",
              "┃\u001b[1m \u001b[0m\u001b[1mLayer (type)                   \u001b[0m\u001b[1m \u001b[0m┃\u001b[1m \u001b[0m\u001b[1mOutput Shape          \u001b[0m\u001b[1m \u001b[0m┃\u001b[1m \u001b[0m\u001b[1m      Param #\u001b[0m\u001b[1m \u001b[0m┃\n",
              "┡━━━━━━━━━━━━━━━━━━━━━━━━━━━━━━━━━╇━━━━━━━━━━━━━━━━━━━━━━━━╇━━━━━━━━━━━━━━━┩\n",
              "│ embedding_4 (\u001b[38;5;33mEmbedding\u001b[0m)         │ ?                      │   \u001b[38;5;34m0\u001b[0m (unbuilt) │\n",
              "├─────────────────────────────────┼────────────────────────┼───────────────┤\n",
              "│ conv1d (\u001b[38;5;33mConv1D\u001b[0m)                 │ ?                      │   \u001b[38;5;34m0\u001b[0m (unbuilt) │\n",
              "├─────────────────────────────────┼────────────────────────┼───────────────┤\n",
              "│ global_max_pooling1d            │ ?                      │             \u001b[38;5;34m0\u001b[0m │\n",
              "│ (\u001b[38;5;33mGlobalMaxPooling1D\u001b[0m)            │                        │               │\n",
              "├─────────────────────────────────┼────────────────────────┼───────────────┤\n",
              "│ dense_4 (\u001b[38;5;33mDense\u001b[0m)                 │ ?                      │   \u001b[38;5;34m0\u001b[0m (unbuilt) │\n",
              "└─────────────────────────────────┴────────────────────────┴───────────────┘\n"
            ]
          },
          "metadata": {},
          "output_type": "display_data"
        },
        {
          "data": {
            "text/html": [
              "<pre style=\"white-space:pre;overflow-x:auto;line-height:normal;font-family:Menlo,'DejaVu Sans Mono',consolas,'Courier New',monospace\"><span style=\"font-weight: bold\"> Total params: </span><span style=\"color: #00af00; text-decoration-color: #00af00\">0</span> (0.00 B)\n",
              "</pre>\n"
            ],
            "text/plain": [
              "\u001b[1m Total params: \u001b[0m\u001b[38;5;34m0\u001b[0m (0.00 B)\n"
            ]
          },
          "metadata": {},
          "output_type": "display_data"
        },
        {
          "data": {
            "text/html": [
              "<pre style=\"white-space:pre;overflow-x:auto;line-height:normal;font-family:Menlo,'DejaVu Sans Mono',consolas,'Courier New',monospace\"><span style=\"font-weight: bold\"> Trainable params: </span><span style=\"color: #00af00; text-decoration-color: #00af00\">0</span> (0.00 B)\n",
              "</pre>\n"
            ],
            "text/plain": [
              "\u001b[1m Trainable params: \u001b[0m\u001b[38;5;34m0\u001b[0m (0.00 B)\n"
            ]
          },
          "metadata": {},
          "output_type": "display_data"
        },
        {
          "data": {
            "text/html": [
              "<pre style=\"white-space:pre;overflow-x:auto;line-height:normal;font-family:Menlo,'DejaVu Sans Mono',consolas,'Courier New',monospace\"><span style=\"font-weight: bold\"> Non-trainable params: </span><span style=\"color: #00af00; text-decoration-color: #00af00\">0</span> (0.00 B)\n",
              "</pre>\n"
            ],
            "text/plain": [
              "\u001b[1m Non-trainable params: \u001b[0m\u001b[38;5;34m0\u001b[0m (0.00 B)\n"
            ]
          },
          "metadata": {},
          "output_type": "display_data"
        },
        {
          "name": "stdout",
          "output_type": "stream",
          "text": [
            "ConvNet Training Accuracy: 0.6698\n",
            "ConvNet Validation Accuracy: 0.5915\n",
            "ConvNet Final Accuracy on full toy dataset: 0.5762\n"
          ]
        }
      ],
      "source": [
        "print(\"\\n--- Task 5: ConvNets for Text Classification ---\")\n",
        "print(\"\\nBuilding and training ConvNet model...\")\n",
        "\n",
        "model_convnet = Sequential([\n",
        "    Embedding(input_dim=VOCAB_SIZE,output_dim=EMBEDDING_DIM, input_length=MAX_SEQUENCE_LENGTH),\n",
        "    Conv1D(filters=64, kernel_size=3, activation='relu'),\n",
        "    GlobalMaxPooling1D(),\n",
        "    Dense(1, activation='sigmoid')\n",
        "])\n",
        "\n",
        "model_convnet.compile(optimizer='adam', loss='binary_crossentropy', metrics=['accuracy'])\n",
        "print(\"\\nConvNet Model Summary:\")\n",
        "model_convnet.summary()\n",
        "\n",
        "history_convnet = model_convnet.fit(X_train, y_train, epochs=EPOCHS, batch_size=BATCH_SIZE, validation_split=0.2, verbose=0)\n",
        "\n",
        "loss_convnet, accuracy_convnet = model_convnet.evaluate(X_test, y_test, verbose=0)\n",
        "print(f\"ConvNet Training Accuracy: {history_convnet.history['accuracy'][-1]:.4f}\")\n",
        "print(f\"ConvNet Validation Accuracy: {history_convnet.history['val_accuracy'][-1]:.4f}\")\n",
        "print(f\"ConvNet Final Accuracy on full toy dataset: {accuracy_convnet:.4f}\")\n",
        "\n"
      ]
    },
    {
      "cell_type": "code",
      "execution_count": 42,
      "id": "7K4ZG4otyoyR",
      "metadata": {
        "colab": {
          "base_uri": "https://localhost:8080/"
        },
        "id": "7K4ZG4otyoyR",
        "outputId": "f77ab1d9-1224-452e-a91c-23aa0926d102"
      },
      "outputs": [
        {
          "name": "stdout",
          "output_type": "stream",
          "text": [
            "\n",
            "--- Comparison of ConvNet vs. RNN/LSTM/GRU Models ---\n",
            "ConvNet Accuracy:    0.5762\n",
            "LSTM Accuracy:       0.2117\n",
            "GRU Accuracy:        0.6585\n"
          ]
        }
      ],
      "source": [
        "print(\"\\n--- Comparison of ConvNet vs. RNN/LSTM/GRU Models ---\")\n",
        "print(f\"ConvNet Accuracy:    {accuracy_convnet:.4f}\")\n",
        "print(f\"LSTM Accuracy:       {accuracy_lstm:.4f}\")\n",
        "print(f\"GRU Accuracy:        {accuracy_gru:.4f}\")\n",
        "\n"
      ]
    },
    {
      "cell_type": "markdown",
      "id": "CodU0X1n731y",
      "metadata": {
        "id": "CodU0X1n731y"
      },
      "source": [
        "---\n",
        "## Section 6: Putting It All Together: A Text Classification Project\n",
        "\n",
        "Now, let's apply what you've learned to a slightly more realistic text classification problem. We will use a subset of a popular dataset like the IMDB movie review sentiment classification dataset (or a similar small sentiment dataset).\n",
        "\n",
        "### 6.1 Problem Definition\n",
        "\n",
        "**Goal:** Classify movie reviews as positive or negative sentiment.\n",
        "\n",
        "**Dataset:** For simplicity, we will use a small, pre-processed subset of the IMDB dataset available in Keras.\n",
        "\n",
        "Example for Keras IMDB dataset\n",
        "```python\n",
        "# Example for Keras IMDB dataset\n",
        "from tensorflow.keras.datasets import imdb\n",
        "from tensorflow.keras.preprocessing.sequence import pad_sequences\n",
        "\n",
        "# Parameters\n",
        "vocab_size = 10000  # Only consider the top 10,000 most frequent words\n",
        "maxlen = 200        # Pad/truncate sequences to 200 words\n",
        "\n",
        "(x_train, y_train), (x_test, y_test) = imdb.load_data(num_words=vocab_size)\n",
        "\n",
        "x_train = pad_sequences(x_train, maxlen=maxlen)\n",
        "x_test = pad_sequences(x_test, maxlen=maxlen)\n",
        "\n",
        "print(f\"Training data shape: {x_train.shape}\")\n",
        "print(f\"Testing data shape: {x_test.shape}\")\n",
        "```\n",
        "\n",
        "### 6.2 Model Building and Training\n",
        "\n",
        "You will build a deep learning model using a combination of the techniques learned.\n",
        "\n",
        "### 6.3 Evaluation\n",
        "\n",
        "Evaluate your model's performance on the test set."
      ]
    },
    {
      "cell_type": "code",
      "execution_count": 43,
      "id": "yGz2M8y2731y",
      "metadata": {
        "colab": {
          "base_uri": "https://localhost:8080/",
          "height": 633
        },
        "id": "yGz2M8y2731y",
        "outputId": "06e9a300-6023-43d1-a3c5-f3c92b739c27"
      },
      "outputs": [
        {
          "name": "stdout",
          "output_type": "stream",
          "text": [
            "\n",
            "Loading IMDB dataset with vocab_size=10000 and maxlen=200...\n",
            "Downloading data from https://storage.googleapis.com/tensorflow/tf-keras-datasets/imdb.npz\n",
            "\u001b[1m17464789/17464789\u001b[0m \u001b[32m━━━━━━━━━━━━━━━━━━━━\u001b[0m\u001b[37m\u001b[0m \u001b[1m0s\u001b[0m 0us/step\n",
            "Training data shape: (25000, 200)\n",
            "Testing data shape: (25000, 200)\n",
            "\n",
            "Building and training IMDB sentiment classification model (LSTM-based)...\n",
            "\n",
            "IMDB LSTM Model Summary:\n"
          ]
        },
        {
          "data": {
            "text/html": [
              "<pre style=\"white-space:pre;overflow-x:auto;line-height:normal;font-family:Menlo,'DejaVu Sans Mono',consolas,'Courier New',monospace\"><span style=\"font-weight: bold\">Model: \"sequential_5\"</span>\n",
              "</pre>\n"
            ],
            "text/plain": [
              "\u001b[1mModel: \"sequential_5\"\u001b[0m\n"
            ]
          },
          "metadata": {},
          "output_type": "display_data"
        },
        {
          "data": {
            "text/html": [
              "<pre style=\"white-space:pre;overflow-x:auto;line-height:normal;font-family:Menlo,'DejaVu Sans Mono',consolas,'Courier New',monospace\">┏━━━━━━━━━━━━━━━━━━━━━━━━━━━━━━━━━┳━━━━━━━━━━━━━━━━━━━━━━━━┳━━━━━━━━━━━━━━━┓\n",
              "┃<span style=\"font-weight: bold\"> Layer (type)                    </span>┃<span style=\"font-weight: bold\"> Output Shape           </span>┃<span style=\"font-weight: bold\">       Param # </span>┃\n",
              "┡━━━━━━━━━━━━━━━━━━━━━━━━━━━━━━━━━╇━━━━━━━━━━━━━━━━━━━━━━━━╇━━━━━━━━━━━━━━━┩\n",
              "│ embedding_5 (<span style=\"color: #0087ff; text-decoration-color: #0087ff\">Embedding</span>)         │ ?                      │   <span style=\"color: #00af00; text-decoration-color: #00af00\">0</span> (unbuilt) │\n",
              "├─────────────────────────────────┼────────────────────────┼───────────────┤\n",
              "│ lstm_2 (<span style=\"color: #0087ff; text-decoration-color: #0087ff\">LSTM</span>)                   │ ?                      │   <span style=\"color: #00af00; text-decoration-color: #00af00\">0</span> (unbuilt) │\n",
              "├─────────────────────────────────┼────────────────────────┼───────────────┤\n",
              "│ dropout_2 (<span style=\"color: #0087ff; text-decoration-color: #0087ff\">Dropout</span>)             │ ?                      │             <span style=\"color: #00af00; text-decoration-color: #00af00\">0</span> │\n",
              "├─────────────────────────────────┼────────────────────────┼───────────────┤\n",
              "│ lstm_3 (<span style=\"color: #0087ff; text-decoration-color: #0087ff\">LSTM</span>)                   │ ?                      │   <span style=\"color: #00af00; text-decoration-color: #00af00\">0</span> (unbuilt) │\n",
              "├─────────────────────────────────┼────────────────────────┼───────────────┤\n",
              "│ dropout_3 (<span style=\"color: #0087ff; text-decoration-color: #0087ff\">Dropout</span>)             │ ?                      │             <span style=\"color: #00af00; text-decoration-color: #00af00\">0</span> │\n",
              "├─────────────────────────────────┼────────────────────────┼───────────────┤\n",
              "│ dense_5 (<span style=\"color: #0087ff; text-decoration-color: #0087ff\">Dense</span>)                 │ ?                      │   <span style=\"color: #00af00; text-decoration-color: #00af00\">0</span> (unbuilt) │\n",
              "└─────────────────────────────────┴────────────────────────┴───────────────┘\n",
              "</pre>\n"
            ],
            "text/plain": [
              "┏━━━━━━━━━━━━━━━━━━━━━━━━━━━━━━━━━┳━━━━━━━━━━━━━━━━━━━━━━━━┳━━━━━━━━━━━━━━━┓\n",
              "┃\u001b[1m \u001b[0m\u001b[1mLayer (type)                   \u001b[0m\u001b[1m \u001b[0m┃\u001b[1m \u001b[0m\u001b[1mOutput Shape          \u001b[0m\u001b[1m \u001b[0m┃\u001b[1m \u001b[0m\u001b[1m      Param #\u001b[0m\u001b[1m \u001b[0m┃\n",
              "┡━━━━━━━━━━━━━━━━━━━━━━━━━━━━━━━━━╇━━━━━━━━━━━━━━━━━━━━━━━━╇━━━━━━━━━━━━━━━┩\n",
              "│ embedding_5 (\u001b[38;5;33mEmbedding\u001b[0m)         │ ?                      │   \u001b[38;5;34m0\u001b[0m (unbuilt) │\n",
              "├─────────────────────────────────┼────────────────────────┼───────────────┤\n",
              "│ lstm_2 (\u001b[38;5;33mLSTM\u001b[0m)                   │ ?                      │   \u001b[38;5;34m0\u001b[0m (unbuilt) │\n",
              "├─────────────────────────────────┼────────────────────────┼───────────────┤\n",
              "│ dropout_2 (\u001b[38;5;33mDropout\u001b[0m)             │ ?                      │             \u001b[38;5;34m0\u001b[0m │\n",
              "├─────────────────────────────────┼────────────────────────┼───────────────┤\n",
              "│ lstm_3 (\u001b[38;5;33mLSTM\u001b[0m)                   │ ?                      │   \u001b[38;5;34m0\u001b[0m (unbuilt) │\n",
              "├─────────────────────────────────┼────────────────────────┼───────────────┤\n",
              "│ dropout_3 (\u001b[38;5;33mDropout\u001b[0m)             │ ?                      │             \u001b[38;5;34m0\u001b[0m │\n",
              "├─────────────────────────────────┼────────────────────────┼───────────────┤\n",
              "│ dense_5 (\u001b[38;5;33mDense\u001b[0m)                 │ ?                      │   \u001b[38;5;34m0\u001b[0m (unbuilt) │\n",
              "└─────────────────────────────────┴────────────────────────┴───────────────┘\n"
            ]
          },
          "metadata": {},
          "output_type": "display_data"
        },
        {
          "data": {
            "text/html": [
              "<pre style=\"white-space:pre;overflow-x:auto;line-height:normal;font-family:Menlo,'DejaVu Sans Mono',consolas,'Courier New',monospace\"><span style=\"font-weight: bold\"> Total params: </span><span style=\"color: #00af00; text-decoration-color: #00af00\">0</span> (0.00 B)\n",
              "</pre>\n"
            ],
            "text/plain": [
              "\u001b[1m Total params: \u001b[0m\u001b[38;5;34m0\u001b[0m (0.00 B)\n"
            ]
          },
          "metadata": {},
          "output_type": "display_data"
        },
        {
          "data": {
            "text/html": [
              "<pre style=\"white-space:pre;overflow-x:auto;line-height:normal;font-family:Menlo,'DejaVu Sans Mono',consolas,'Courier New',monospace\"><span style=\"font-weight: bold\"> Trainable params: </span><span style=\"color: #00af00; text-decoration-color: #00af00\">0</span> (0.00 B)\n",
              "</pre>\n"
            ],
            "text/plain": [
              "\u001b[1m Trainable params: \u001b[0m\u001b[38;5;34m0\u001b[0m (0.00 B)\n"
            ]
          },
          "metadata": {},
          "output_type": "display_data"
        },
        {
          "data": {
            "text/html": [
              "<pre style=\"white-space:pre;overflow-x:auto;line-height:normal;font-family:Menlo,'DejaVu Sans Mono',consolas,'Courier New',monospace\"><span style=\"font-weight: bold\"> Non-trainable params: </span><span style=\"color: #00af00; text-decoration-color: #00af00\">0</span> (0.00 B)\n",
              "</pre>\n"
            ],
            "text/plain": [
              "\u001b[1m Non-trainable params: \u001b[0m\u001b[38;5;34m0\u001b[0m (0.00 B)\n"
            ]
          },
          "metadata": {},
          "output_type": "display_data"
        },
        {
          "name": "stdout",
          "output_type": "stream",
          "text": [
            "\n",
            "Training IMDB LSTM model (this might take a few minutes)...\n",
            "Epoch 1/2\n",
            "\u001b[1m313/313\u001b[0m \u001b[32m━━━━━━━━━━━━━━━━━━━━\u001b[0m\u001b[37m\u001b[0m \u001b[1m67s\u001b[0m 206ms/step - accuracy: 0.7016 - loss: 0.5522 - val_accuracy: 0.8618 - val_loss: 0.3483\n",
            "Epoch 2/2\n",
            "\u001b[1m313/313\u001b[0m \u001b[32m━━━━━━━━━━━━━━━━━━━━\u001b[0m\u001b[37m\u001b[0m \u001b[1m65s\u001b[0m 206ms/step - accuracy: 0.8983 - loss: 0.2645 - val_accuracy: 0.8660 - val_loss: 0.3166\n",
            "\n",
            "IMDB LSTM Test Accuracy: 0.8524\n",
            "IMDB LSTM Test Loss: 0.3329\n"
          ]
        }
      ],
      "source": [
        "# Example for Keras IMDB dataset\n",
        "from tensorflow.keras.datasets import imdb\n",
        "from tensorflow.keras.preprocessing.sequence import pad_sequences\n",
        "\n",
        "# Parameters\n",
        "vocab_size_imdb = 10000  # Only consider the top 10,000 most frequent words\n",
        "maxlen_imdb = 200        # Pad/truncate sequences to 200 words\n",
        "\n",
        "print(f\"\\nLoading IMDB dataset with vocab_size={vocab_size_imdb} and maxlen={maxlen_imdb}...\")\n",
        "(x_train_imdb, y_train_imdb), (x_test_imdb, y_test_imdb) = imdb.load_data(num_words=vocab_size_imdb)\n",
        "\n",
        "x_train_imdb = pad_sequences(x_train_imdb, maxlen=maxlen_imdb)\n",
        "x_test_imdb = pad_sequences(x_test_imdb, maxlen=maxlen_imdb)\n",
        "\n",
        "print(f\"Training data shape: {x_train_imdb.shape}\")\n",
        "print(f\"Testing data shape: {x_test_imdb.shape}\")\n",
        "\n",
        "print(\"\\nBuilding and training IMDB sentiment classification model (LSTM-based)...\")\n",
        "embedding_dim_imdb = 128 # Embedding dimension for IMDB data\n",
        "\n",
        "model_imdb_lstm = Sequential([\n",
        "    Embedding(input_dim=vocab_size_imdb, output_dim=embedding_dim_imdb, input_length=maxlen_imdb),\n",
        "    LSTM(units=64, return_sequences=True),\n",
        "    Dropout(0.3),\n",
        "    LSTM(units=32),\n",
        "    Dropout(0.3),\n",
        "    Dense(1, activation='sigmoid')\n",
        "])\n",
        "\n",
        "model_imdb_lstm.compile(optimizer='adam', loss='binary_crossentropy', metrics=['accuracy'])\n",
        "print(\"\\nIMDB LSTM Model Summary:\")\n",
        "model_imdb_lstm.summary()\n",
        "\n",
        "early_stopping = tf.keras.callbacks.EarlyStopping(monitor='val_loss', patience=3, restore_best_weights=True)\n",
        "\n",
        "print(\"\\nTraining IMDB LSTM model (this might take a few minutes)...\")\n",
        "history_imdb_lstm = model_imdb_lstm.fit(\n",
        "    x_train_imdb, y_train_imdb,\n",
        "    epochs=2,\n",
        "    batch_size=64,\n",
        "    validation_split=0.2,\n",
        "    callbacks=[early_stopping],\n",
        "    verbose=1\n",
        ")\n",
        "\n",
        "loss_imdb_lstm, accuracy_imdb_lstm = model_imdb_lstm.evaluate(x_test_imdb, y_test_imdb, verbose=0)\n",
        "print(f\"\\nIMDB LSTM Test Accuracy: {accuracy_imdb_lstm:.4f}\")\n",
        "print(f\"IMDB LSTM Test Loss: {loss_imdb_lstm:.4f}\")\n"
      ]
    },
    {
      "cell_type": "markdown",
      "id": "drCcxdd-2mV7",
      "metadata": {
        "id": "drCcxdd-2mV7"
      },
      "source": [
        "# Reflection and Discussion\n",
        "**When to prefer LSTM over GRU, or vice versa, in real-world NLP?**\n",
        "\n",
        " --  LSTMs are preferred when handling longer sequences with complex dependencies, as their memory cells help retain information for extended periods. GRUs, being more computationally efficient, are favored when working with smaller datasets or when quick training is necessary. If performance is similar, GRUs are often chosen due to their simplicity and reduced resource consumption.\n",
        "\n",
        "\n",
        "**What are Advantages and Disadvantages of ConvNets vs. RNNs (LSTMs/GRUs) for Text Data?**\n",
        "\n",
        " --  CNNs excel in text classification by capturing local patterns efficiently, while RNNs (LSTMs/GRUs) are better suited for sequential data where context matters. RNNs struggle with long-term dependencies but LSTMs mitigate this issue, whereas CNNs process text in parallel, making them faster. Choosing between them depends on whether the task requires sequence modeling or rapid feature extraction.\n",
        "\n",
        "\n",
        "\n",
        "\n",
        "**Challenges faced during this task**\n",
        "\n",
        " --  During this task, common challenges include **dependency conflicts** (like your numpy version mismatch with TensorFlow), **installation issues** (missing modules or incorrect package versions), and **environment inconsistencies** (virtual environments not properly configured). Additionally, debugging deep learning frameworks can be tricky, especially when dealing with incompatible GPU drivers or memory limitations. Let me know if you need help resolving any remaining issues!\n",
        "\n",
        "\n",
        "\n",
        "**Ways to further improve model performance:**\n",
        "\n",
        " -- To enhance model performance, consider **hyperparameter tuning** (adjusting learning rates, batch sizes, and dropout rates), **data augmentation** (expanding datasets through preprocessing techniques), and **architecture optimization** (experimenting with different layer configurations like Bi-LSTMs or attention mechanisms). Additionally, leveraging **regularization techniques** like L2 weight decay can prevent overfitting, and using **transfer learning** with pre-trained embeddings (like Word2Vec or BERT) can improve text understanding. If you're looking for specific optimizations, I can help refine strategies based on your dataset and task!"
      ]
    },
    {
      "cell_type": "code",
      "execution_count": null,
      "id": "390f2384",
      "metadata": {},
      "outputs": [],
      "source": []
    },
    {
      "cell_type": "markdown",
      "id": "XM1j-mju731z",
      "metadata": {
        "id": "XM1j-mju731z"
      },
      "source": [
        "---\n",
        "## Submission Guidelines\n",
        "\n",
        "* Complete all the tasks in this Jupyter Notebook.\n",
        "* Ensure your code runs without errors.\n",
        "* Add comments to your code where necessary to explain your logic.\n",
        "* Answer all the discussion questions clearly and concisely in markdown cells.\n",
        "* Submit your completed `.ipynb` file.\n",
        "\n",
        "Good luck!"
      ]
    }
  ],
  "metadata": {
    "colab": {
      "provenance": []
    },
    "kernelspec": {
      "display_name": "Python 3",
      "name": "python3"
    },
    "language_info": {
      "codemirror_mode": {
        "name": "ipython",
        "version": 3
      },
      "file_extension": ".py",
      "mimetype": "text/x-python",
      "name": "python",
      "nbconvert_exporter": "python",
      "pygments_lexer": "ipython3",
      "version": "3.12.1"
    }
  },
  "nbformat": 4,
  "nbformat_minor": 5
}
